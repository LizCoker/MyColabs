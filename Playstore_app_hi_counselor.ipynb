{
  "nbformat": 4,
  "nbformat_minor": 0,
  "metadata": {
    "colab": {
      "provenance": [],
      "authorship_tag": "ABX9TyNblWpAt5olIcjX3cAvCF+1",
      "include_colab_link": true
    },
    "kernelspec": {
      "name": "python3",
      "display_name": "Python 3"
    },
    "language_info": {
      "name": "python"
    }
  },
  "cells": [
    {
      "cell_type": "markdown",
      "metadata": {
        "id": "view-in-github",
        "colab_type": "text"
      },
      "source": [
        "<a href=\"https://colab.research.google.com/github/LizCoker/MyColabs/blob/main/Playstore_app_hi_counselor.ipynb\" target=\"_parent\"><img src=\"https://colab.research.google.com/assets/colab-badge.svg\" alt=\"Open In Colab\"/></a>"
      ]
    },
    {
      "cell_type": "markdown",
      "source": [
        "# Import the necessary libraries"
      ],
      "metadata": {
        "id": "1MlCCmOiGXQD"
      }
    },
    {
      "cell_type": "code",
      "execution_count": 1,
      "metadata": {
        "colab": {
          "base_uri": "https://localhost:8080/"
        },
        "id": "l5-GnZF7ePv6",
        "outputId": "db125910-7a6d-497a-d8aa-c1a8a1e74ea7"
      },
      "outputs": [
        {
          "output_type": "stream",
          "name": "stdout",
          "text": [
            "Mounted at /content/gdrive\n"
          ]
        }
      ],
      "source": [
        "import numpy as np\n",
        "import pandas as pd\n",
        "#from scipy import stats\n",
        "#import math\n",
        "#from scipy.io import arff\n",
        "#import seaborn as sns\n",
        "#import matplotlib.pyplot as plt\n",
        "from google.colab import drive\n",
        "drive.mount('/content/gdrive', force_remount=True)\n",
        "\n",
        "# suppress warnings\n",
        "import warnings\n",
        "warnings.filterwarnings('ignore')"
      ]
    },
    {
      "cell_type": "markdown",
      "source": [
        "# Load the data"
      ],
      "metadata": {
        "id": "wLXl3RmqGmjF"
      }
    },
    {
      "cell_type": "code",
      "source": [
        "playstore_df = pd.read_csv('/content/gdrive/MyDrive/playstoreliveproj/playstore_apps.csv', index_col='App')\n",
        "reviews_df = pd.read_csv('/content/gdrive/MyDrive/playstoreliveproj/playstore_reviews.csv')"
      ],
      "metadata": {
        "id": "-GMoUvPGfg4J"
      },
      "execution_count": 2,
      "outputs": []
    },
    {
      "cell_type": "code",
      "source": [
        "print('---- Info for playstore_df ----')\n",
        "print(playstore_df.info())\n",
        "print()\n",
        "#print('---- First 5 rows ----')\n",
        "#print(playstore_df.head())\n",
        "print('-'*100)\n",
        "print('---- Info for reviews_df ----')\n",
        "print(reviews_df.info())\n",
        "print()\n",
        "#print('---- First 5 rows ----')\n",
        "#print(reviews_df.head())"
      ],
      "metadata": {
        "colab": {
          "base_uri": "https://localhost:8080/"
        },
        "id": "x6rxP5fFBHin",
        "outputId": "368c95bf-c2f9-4591-d5b9-a963a41f4d2d"
      },
      "execution_count": 3,
      "outputs": [
        {
          "output_type": "stream",
          "name": "stdout",
          "text": [
            "---- Info for playstore_df ----\n",
            "<class 'pandas.core.frame.DataFrame'>\n",
            "Index: 10841 entries, Photo Editor & Candy Camera & Grid & ScrapBook to iHoroscope - 2018 Daily Horoscope & Astrology\n",
            "Data columns (total 12 columns):\n",
            " #   Column          Non-Null Count  Dtype  \n",
            "---  ------          --------------  -----  \n",
            " 0   Category        10841 non-null  object \n",
            " 1   Rating          9367 non-null   float64\n",
            " 2   Reviews         10840 non-null  float64\n",
            " 3   Size            10841 non-null  object \n",
            " 4   Installs        10840 non-null  float64\n",
            " 5   Type            10840 non-null  object \n",
            " 6   Price           10840 non-null  float64\n",
            " 7   Content Rating  10840 non-null  object \n",
            " 8   Genres          10841 non-null  object \n",
            " 9   Last Updated    10840 non-null  object \n",
            " 10  Current Ver     10833 non-null  object \n",
            " 11  Android Ver     10838 non-null  object \n",
            "dtypes: float64(4), object(8)\n",
            "memory usage: 1.1+ MB\n",
            "None\n",
            "\n",
            "----------------------------------------------------------------------------------------------------\n",
            "---- Info for reviews_df ----\n",
            "<class 'pandas.core.frame.DataFrame'>\n",
            "RangeIndex: 64295 entries, 0 to 64294\n",
            "Data columns (total 5 columns):\n",
            " #   Column                  Non-Null Count  Dtype  \n",
            "---  ------                  --------------  -----  \n",
            " 0   App                     64295 non-null  object \n",
            " 1   Translated_Review       37427 non-null  object \n",
            " 2   Sentiment               37432 non-null  object \n",
            " 3   Sentiment_Polarity      37432 non-null  float64\n",
            " 4   Sentiment_Subjectivity  37432 non-null  float64\n",
            "dtypes: float64(2), object(3)\n",
            "memory usage: 2.5+ MB\n",
            "None\n",
            "\n"
          ]
        }
      ]
    },
    {
      "cell_type": "markdown",
      "source": [
        "# Cleaning the data"
      ],
      "metadata": {
        "id": "op5obojtGuWu"
      }
    },
    {
      "cell_type": "code",
      "source": [
        "# remove duplicate data from the playstore df\n",
        "playstore_df.drop_duplicates(keep = False, inplace=True)\n",
        "playstore_df.info()"
      ],
      "metadata": {
        "colab": {
          "base_uri": "https://localhost:8080/"
        },
        "id": "hzIRTtG6gLqx",
        "outputId": "393857b9-a370-4c5f-e8bd-7e09f2eeff69"
      },
      "execution_count": 4,
      "outputs": [
        {
          "output_type": "stream",
          "name": "stdout",
          "text": [
            "<class 'pandas.core.frame.DataFrame'>\n",
            "Index: 9930 entries, Photo Editor & Candy Camera & Grid & ScrapBook to iHoroscope - 2018 Daily Horoscope & Astrology\n",
            "Data columns (total 12 columns):\n",
            " #   Column          Non-Null Count  Dtype  \n",
            "---  ------          --------------  -----  \n",
            " 0   Category        9930 non-null   object \n",
            " 1   Rating          8487 non-null   float64\n",
            " 2   Reviews         9929 non-null   float64\n",
            " 3   Size            9930 non-null   object \n",
            " 4   Installs        9929 non-null   float64\n",
            " 5   Type            9929 non-null   object \n",
            " 6   Price           9929 non-null   float64\n",
            " 7   Content Rating  9929 non-null   object \n",
            " 8   Genres          9930 non-null   object \n",
            " 9   Last Updated    9929 non-null   object \n",
            " 10  Current Ver     9922 non-null   object \n",
            " 11  Android Ver     9927 non-null   object \n",
            "dtypes: float64(4), object(8)\n",
            "memory usage: 1008.5+ KB\n"
          ]
        }
      ]
    },
    {
      "cell_type": "markdown",
      "source": [
        "## Looking at the unique values for each field to find if there exists unusual values\n",
        "\n",
        "Any rows containing unusual values will be dropped "
      ],
      "metadata": {
        "id": "J7mOcsR_HE18"
      }
    },
    {
      "cell_type": "code",
      "source": [
        "# defining a function for checking the number and names of each unique value in each column\n",
        "def check_unique(df):\n",
        "  '''This function checks each column of a dataframe for the\n",
        "   number of unique values and then lists out the unique values'''\n",
        "  for i in df:\n",
        "    print(f\"number of unique values for {i}: \", df[i].nunique())\n",
        "    print()\n",
        "    print(f\"list of unique values for {i}: \")\n",
        "    print(df[i].unique())\n",
        "    print(\"-\"*100)\n",
        "    print()"
      ],
      "metadata": {
        "id": "klumiPSQRRyp"
      },
      "execution_count": 5,
      "outputs": []
    },
    {
      "cell_type": "code",
      "source": [
        "check_unique(playstore_df)"
      ],
      "metadata": {
        "colab": {
          "base_uri": "https://localhost:8080/"
        },
        "id": "65zaTlAMEGjK",
        "outputId": "8f356e00-4629-45e6-fcdf-d622ddd04264"
      },
      "execution_count": 6,
      "outputs": [
        {
          "output_type": "stream",
          "name": "stdout",
          "text": [
            "number of unique values for Category:  34\n",
            "\n",
            "list of unique values for Category: \n",
            "['ART_AND_DESIGN' 'AUTO_AND_VEHICLES' 'BEAUTY' 'BOOKS_AND_REFERENCE'\n",
            " 'BUSINESS' 'COMICS' 'COMMUNICATION' 'DATING' 'EDUCATION' 'ENTERTAINMENT'\n",
            " 'EVENTS' 'FINANCE' 'FOOD_AND_DRINK' 'HEALTH_AND_FITNESS' 'HOUSE_AND_HOME'\n",
            " 'LIBRARIES_AND_DEMO' 'LIFESTYLE' 'GAME' 'FAMILY' 'MEDICAL' 'SOCIAL'\n",
            " 'SHOPPING' 'PHOTOGRAPHY' 'SPORTS' 'TRAVEL_AND_LOCAL' 'TOOLS'\n",
            " 'PERSONALIZATION' 'PRODUCTIVITY' 'PARENTING' 'WEATHER' 'VIDEO_PLAYERS'\n",
            " 'NEWS_AND_MAGAZINES' 'MAPS_AND_NAVIGATION' '1.9']\n",
            "----------------------------------------------------------------------------------------------------\n",
            "\n",
            "number of unique values for Rating:  40\n",
            "\n",
            "list of unique values for Rating: \n",
            "[ 4.1  3.9  4.7  4.5  4.3  4.4  3.8  4.2  4.6  3.2  4.   nan  4.8  4.9\n",
            "  3.6  3.7  3.3  3.4  3.5  3.1  5.   2.6  3.   2.5  1.   1.9  2.9  2.8\n",
            "  2.3  2.2  1.7  2.   1.8  2.7  2.4  1.6  2.1  1.4  1.5  1.2 19. ]\n",
            "----------------------------------------------------------------------------------------------------\n",
            "\n",
            "number of unique values for Reviews:  5665\n",
            "\n",
            "list of unique values for Reviews: \n",
            "[1.59000e+02 9.67000e+02 8.75100e+04 ... 6.03000e+02 1.19500e+03\n",
            " 3.98307e+05]\n",
            "----------------------------------------------------------------------------------------------------\n",
            "\n",
            "number of unique values for Size:  461\n",
            "\n",
            "list of unique values for Size: \n",
            "['19M' '14M' '8.7M' '25M' '2.8M' '5.6M' '29M' '33M' '3.1M' '28M' '12M'\n",
            " '20M' '21M' '37M' '2.7M' '5.5M' '17M' '39M' '31M' '4.2M' '7.0M' '23M'\n",
            " '6.0M' '6.1M' '4.6M' '9.2M' '5.2M' '11M' '24M' 'Varies with device'\n",
            " '9.4M' '15M' '10M' '1.2M' '26M' '8.0M' '7.9M' '56M' '57M' '35M' '54M'\n",
            " '201k' '3.6M' '5.7M' '8.6M' '2.4M' '27M' '2.5M' '16M' '3.4M' '8.9M'\n",
            " '3.9M' '2.9M' '38M' '32M' '5.4M' '18M' '1.1M' '2.2M' '4.5M' '9.8M' '52M'\n",
            " '9.0M' '6.7M' '30M' '2.6M' '7.1M' '3.7M' '22M' '7.4M' '6.4M' '3.2M'\n",
            " '8.2M' '9.9M' '4.9M' '9.5M' '5.0M' '5.9M' '13M' '73M' '6.8M' '3.5M'\n",
            " '4.0M' '2.3M' '7.2M' '2.1M' '42M' '7.3M' '9.1M' '55M' '23k' '6.5M' '1.5M'\n",
            " '7.5M' '46M' '8.3M' '4.3M' '4.7M' '3.3M' '40M' '7.8M' '8.8M' '6.6M'\n",
            " '5.1M' '61M' '66M' '79k' '8.4M' '118k' '44M' '695k' '1.6M' '6.2M' '18k'\n",
            " '53M' '1.4M' '3.0M' '5.8M' '3.8M' '9.6M' '45M' '63M' '49M' '4.4M' '70M'\n",
            " '6.9M' '9.3M' '10.0M' '8.1M' '36M' '41M' '51M' '84M' '97M' '2.0M' '1.9M'\n",
            " '1.8M' '5.3M' '48M' '47M' '556k' '526k' '76M' '7.6M' '59M' '9.7M' '78M'\n",
            " '8.5M' '72M' '43M' '7.7M' '77M' '6.3M' '334k' '34M' '93M' '65M' '79M'\n",
            " '100M' '58M' '50M' '68M' '64M' '94M' '232k' '99M' '624k' '95M' '8.5k'\n",
            " '41k' '292k' '11k' '80M' '1.7M' '67M' '74M' '62M' '69M' '75M' '85M' '82M'\n",
            " '96M' '87M' '60M' '71M' '98M' '86M' '91M' '81M' '92M' '83M' '88M' '862k'\n",
            " '899k' '378k' '266k' '375k' '1.3M' '975k' '980k' '4.1M' '89M' '696k'\n",
            " '544k' '525k' '920k' '779k' '853k' '720k' '713k' '4.8M' '772k' '318k'\n",
            " '58k' '241k' '196k' '857k' '51k' '953k' '865k' '251k' '930k' '540k'\n",
            " '313k' '746k' '203k' '26k' '314k' '239k' '371k' '220k' '730k' '756k'\n",
            " '91k' '293k' '17k' '74k' '14k' '317k' '78k' '924k' '902k' '818k' '81k'\n",
            " '939k' '169k' '45k' '475k' '965k' '90M' '545k' '61k' '283k' '655k' '714k'\n",
            " '93k' '872k' '121k' '322k' '1.0M' '976k' '172k' '238k' '549k' '206k'\n",
            " '954k' '444k' '717k' '210k' '609k' '308k' '705k' '306k' '904k' '473k'\n",
            " '175k' '350k' '383k' '454k' '421k' '70k' '812k' '442k' '842k' '417k'\n",
            " '412k' '459k' '478k' '335k' '782k' '721k' '430k' '429k' '192k' '200k'\n",
            " '460k' '728k' '496k' '816k' '414k' '506k' '887k' '613k' '243k' '569k'\n",
            " '778k' '683k' '592k' '319k' '186k' '840k' '647k' '191k' '373k' '437k'\n",
            " '598k' '716k' '585k' '982k' '222k' '219k' '55k' '948k' '323k' '691k'\n",
            " '511k' '951k' '963k' '25k' '554k' '351k' '27k' '82k' '208k' '913k' '514k'\n",
            " '551k' '29k' '103k' '898k' '743k' '116k' '153k' '209k' '353k' '499k'\n",
            " '173k' '597k' '809k' '122k' '411k' '400k' '801k' '787k' '237k' '50k'\n",
            " '643k' '986k' '97k' '516k' '837k' '780k' '961k' '269k' '20k' '498k'\n",
            " '600k' '749k' '642k' '881k' '72k' '656k' '601k' '221k' '228k' '108k'\n",
            " '940k' '176k' '33k' '663k' '34k' '942k' '259k' '164k' '458k' '245k'\n",
            " '629k' '28k' '288k' '775k' '785k' '636k' '916k' '994k' '309k' '485k'\n",
            " '914k' '903k' '608k' '500k' '54k' '562k' '847k' '957k' '688k' '811k'\n",
            " '270k' '48k' '329k' '523k' '921k' '874k' '981k' '784k' '280k' '24k'\n",
            " '518k' '754k' '892k' '154k' '860k' '364k' '387k' '626k' '161k' '879k'\n",
            " '39k' '970k' '170k' '141k' '160k' '144k' '143k' '190k' '376k' '193k'\n",
            " '246k' '73k' '658k' '992k' '253k' '420k' '404k' '1,000+' '470k' '226k'\n",
            " '240k' '89k' '234k' '257k' '861k' '467k' '157k' '44k' '676k' '67k' '552k'\n",
            " '885k' '1020k' '582k' '619k']\n",
            "----------------------------------------------------------------------------------------------------\n",
            "\n",
            "number of unique values for Installs:  20\n",
            "\n",
            "list of unique values for Installs: \n",
            "[1.e+04 5.e+05 5.e+06 5.e+07 1.e+05 5.e+04 1.e+06 1.e+07 5.e+03 1.e+08\n",
            " 1.e+09 1.e+03 5.e+08 5.e+01 1.e+02 5.e+02 1.e+01 1.e+00 5.e+00 0.e+00\n",
            "    nan]\n",
            "----------------------------------------------------------------------------------------------------\n",
            "\n",
            "number of unique values for Type:  3\n",
            "\n",
            "list of unique values for Type: \n",
            "['Free' 'Paid' nan '0']\n",
            "----------------------------------------------------------------------------------------------------\n",
            "\n",
            "number of unique values for Price:  89\n",
            "\n",
            "list of unique values for Price: \n",
            "[  0.     3.99   6.99   1.49   2.99   7.99   5.99   4.99   3.49   1.99\n",
            "   9.99   7.49   0.99   1.     2.49  10.99   1.5   14.99  15.99  74.99\n",
            "  39.99   3.95  29.99   4.49   1.7    8.99   2.     3.88  25.99 399.99\n",
            "  17.99 400.     3.02   1.76   4.84   4.77   1.61   2.5   19.99   1.59\n",
            "   6.49   1.29   5.    13.99 299.99 379.99  37.99  18.99 389.99  19.9\n",
            "   8.49   1.75  11.99  14.     4.85  46.99   5.49 109.99 154.99   3.08\n",
            "   2.59   4.8    1.96  19.4    3.9    4.59  15.46  10.     3.04  12.99\n",
            "   4.29   2.6    3.28   4.6   28.99   2.95   2.9    1.97  24.99 200.\n",
            "  89.99   2.56  30.99   3.61 394.99   1.26    nan  16.99   1.2    1.04]\n",
            "----------------------------------------------------------------------------------------------------\n",
            "\n",
            "number of unique values for Content Rating:  6\n",
            "\n",
            "list of unique values for Content Rating: \n",
            "['Everyone' 'Teen' 'Everyone 10+' 'Mature 17+' 'Adults only 18+' 'Unrated'\n",
            " nan]\n",
            "----------------------------------------------------------------------------------------------------\n",
            "\n",
            "number of unique values for Genres:  119\n",
            "\n",
            "list of unique values for Genres: \n",
            "['Art & Design' 'Art & Design;Pretend Play' 'Art & Design;Creativity'\n",
            " 'Art & Design;Action & Adventure' 'Auto & Vehicles' 'Beauty'\n",
            " 'Books & Reference' 'Business' 'Comics' 'Comics;Creativity'\n",
            " 'Communication' 'Dating' 'Education;Education' 'Education'\n",
            " 'Education;Creativity' 'Education;Music & Video'\n",
            " 'Education;Action & Adventure' 'Education;Pretend Play'\n",
            " 'Education;Brain Games' 'Entertainment' 'Entertainment;Music & Video'\n",
            " 'Entertainment;Brain Games' 'Entertainment;Creativity' 'Events' 'Finance'\n",
            " 'Food & Drink' 'Health & Fitness' 'House & Home' 'Libraries & Demo'\n",
            " 'Lifestyle' 'Lifestyle;Pretend Play' 'Adventure;Action & Adventure'\n",
            " 'Arcade' 'Casual' 'Card' 'Casual;Pretend Play' 'Action' 'Strategy'\n",
            " 'Puzzle' 'Sports' 'Music' 'Word' 'Racing' 'Casual;Creativity'\n",
            " 'Casual;Action & Adventure' 'Adventure' 'Board' 'Trivia' 'Simulation'\n",
            " 'Role Playing' 'Simulation;Education' 'Action;Action & Adventure'\n",
            " 'Casual;Brain Games' 'Simulation;Action & Adventure'\n",
            " 'Educational;Creativity' 'Puzzle;Brain Games' 'Educational;Education'\n",
            " 'Card;Brain Games' 'Educational;Brain Games' 'Educational;Pretend Play'\n",
            " 'Entertainment;Education' 'Casual;Education' 'Music;Music & Video'\n",
            " 'Racing;Action & Adventure' 'Arcade;Pretend Play'\n",
            " 'Simulation;Pretend Play' 'Puzzle;Creativity' 'Sports;Action & Adventure'\n",
            " 'Educational;Action & Adventure' 'Arcade;Action & Adventure'\n",
            " 'Entertainment;Action & Adventure' 'Puzzle;Action & Adventure'\n",
            " 'Strategy;Action & Adventure' 'Music & Audio;Music & Video'\n",
            " 'Health & Fitness;Education' 'Adventure;Education' 'Board;Brain Games'\n",
            " 'Board;Action & Adventure' 'Board;Pretend Play'\n",
            " 'Entertainment;Pretend Play' 'Video Players & Editors;Creativity'\n",
            " 'Card;Action & Adventure' 'Medical' 'Social' 'Shopping' 'Photography'\n",
            " 'Travel & Local' 'Travel & Local;Action & Adventure' 'Tools'\n",
            " 'Tools;Education' 'Personalization' 'Productivity' 'Parenting'\n",
            " 'Parenting;Music & Video' 'Parenting;Education' 'Parenting;Brain Games'\n",
            " 'Weather' 'Video Players & Editors'\n",
            " 'Video Players & Editors;Music & Video' 'News & Magazines'\n",
            " 'Maps & Navigation' 'Health & Fitness;Action & Adventure'\n",
            " 'Role Playing;Pretend Play' 'Educational' 'Casino'\n",
            " 'Adventure;Brain Games' 'Role Playing;Action & Adventure'\n",
            " 'Trivia;Education' 'Lifestyle;Education' 'Books & Reference;Creativity'\n",
            " 'Books & Reference;Education' 'Puzzle;Education' 'Role Playing;Education'\n",
            " 'Role Playing;Brain Games' 'Strategy;Education' 'Racing;Pretend Play'\n",
            " 'Communication;Creativity' 'February 11, 2018' 'Strategy;Creativity']\n",
            "----------------------------------------------------------------------------------------------------\n",
            "\n",
            "number of unique values for Last Updated:  1373\n",
            "\n",
            "list of unique values for Last Updated: \n",
            "['07-01-2018' '15-01-2018' '01-08-2018' ... '20-01-2014' '16-02-2014'\n",
            " '23-03-2014']\n",
            "----------------------------------------------------------------------------------------------------\n",
            "\n",
            "number of unique values for Current Ver:  2698\n",
            "\n",
            "list of unique values for Current Ver: \n",
            "['1.0.0' '2.0.0' '1.2.4' ... '1.0.612928' '0.3.4' '2.0.148.0']\n",
            "----------------------------------------------------------------------------------------------------\n",
            "\n",
            "number of unique values for Android Ver:  33\n",
            "\n",
            "list of unique values for Android Ver: \n",
            "['4.0.3 and up' '4.2 and up' '4.4 and up' '2.3 and up' '3.0 and up'\n",
            " '4.1 and up' '4.0 and up' '2.3.3 and up' 'Varies with device'\n",
            " '2.2 and up' '5.0 and up' '6.0 and up' '1.6 and up' '1.5 and up'\n",
            " '2.1 and up' '7.0 and up' '5.1 and up' '4.3 and up' '4.0.3 - 7.1.1'\n",
            " '2.0 and up' '3.2 and up' '4.4W and up' '7.1 and up' '7.0 - 7.1.1'\n",
            " '8.0 and up' '5.0 - 8.0' '3.1 and up' '2.0.1 and up' '4.1 - 7.1.1' nan\n",
            " '5.0 - 6.0' '1.0 and up' '2.2 - 7.1.1' '5.0 - 7.1.1']\n",
            "----------------------------------------------------------------------------------------------------\n",
            "\n"
          ]
        }
      ]
    },
    {
      "cell_type": "code",
      "source": [
        "check_unique(reviews_df)"
      ],
      "metadata": {
        "colab": {
          "base_uri": "https://localhost:8080/"
        },
        "id": "bKZ-O8vSS8LH",
        "outputId": "ecffc2ba-f139-465a-83f9-1b0ab8c4a779"
      },
      "execution_count": 7,
      "outputs": [
        {
          "output_type": "stream",
          "name": "stdout",
          "text": [
            "number of unique values for App:  1074\n",
            "\n",
            "list of unique values for App: \n",
            "['10 Best Foods for You' '104 找工作 - 找工作 找打工 找兼職 履歷健檢 履歷診療室' '11st' ...\n",
            " 'Hotwire Hotel & Car Rental App' 'Housing-Real Estate & Property'\n",
            " 'Houzz Interior Design Ideas']\n",
            "----------------------------------------------------------------------------------------------------\n",
            "\n",
            "number of unique values for Translated_Review:  27994\n",
            "\n",
            "list of unique values for Translated_Review: \n",
            "['I like eat delicious food. That\\'s I\\'m cooking food myself, case \"10 Best Foods\" helps lot, also \"Best Before (Shelf Life)\"'\n",
            " 'This help eating healthy exercise regular basis' nan ...\n",
            " 'Dumb app, I wanted post property rent give option. Website work. Waste time space phone.'\n",
            " 'I property business got link SMS happy performance still guys need raise bar guys Cheers'\n",
            " 'Useless app, I searched flats kondapur, Hyderabad . None number reachable I know flats unavailable would keep posts active']\n",
            "----------------------------------------------------------------------------------------------------\n",
            "\n",
            "number of unique values for Sentiment:  3\n",
            "\n",
            "list of unique values for Sentiment: \n",
            "['Positive' nan 'Neutral' 'Negative']\n",
            "----------------------------------------------------------------------------------------------------\n",
            "\n",
            "number of unique values for Sentiment_Polarity:  5410\n",
            "\n",
            "list of unique values for Sentiment_Polarity: \n",
            "[ 1.          0.25               nan ... -0.52857143 -0.37777778\n",
            "  0.17333333]\n",
            "----------------------------------------------------------------------------------------------------\n",
            "\n",
            "number of unique values for Sentiment_Subjectivity:  4474\n",
            "\n",
            "list of unique values for Sentiment_Subjectivity: \n",
            "[0.53333333 0.28846154        nan ... 0.51145833 0.7172619  0.2594697 ]\n",
            "----------------------------------------------------------------------------------------------------\n",
            "\n"
          ]
        }
      ]
    },
    {
      "cell_type": "code",
      "source": [
        "# checking the rows containing the unusual value\n",
        "ps_cat =playstore_df[playstore_df.Category == '1.9']\n",
        "print(ps_cat)"
      ],
      "metadata": {
        "colab": {
          "base_uri": "https://localhost:8080/"
        },
        "id": "xuT_2YfdhIi_",
        "outputId": "abf2192f-8988-4e3f-940d-cc885ab9c7fa"
      },
      "execution_count": 8,
      "outputs": [
        {
          "output_type": "stream",
          "name": "stdout",
          "text": [
            "                                        Category  Rating  Reviews    Size  \\\n",
            "App                                                                         \n",
            "Life Made WI-Fi Touchscreen Photo Frame      1.9    19.0      NaN  1,000+   \n",
            "\n",
            "                                         Installs Type  Price Content Rating  \\\n",
            "App                                                                            \n",
            "Life Made WI-Fi Touchscreen Photo Frame       NaN    0    NaN            NaN   \n",
            "\n",
            "                                                    Genres Last Updated  \\\n",
            "App                                                                       \n",
            "Life Made WI-Fi Touchscreen Photo Frame  February 11, 2018          NaN   \n",
            "\n",
            "                                        Current Ver Android Ver  \n",
            "App                                                              \n",
            "Life Made WI-Fi Touchscreen Photo Frame  4.0 and up         NaN  \n"
          ]
        }
      ]
    },
    {
      "cell_type": "code",
      "source": [
        "playstore_df.drop(\"Life Made WI-Fi Touchscreen Photo Frame\",inplace = True)\n",
        "print(\"unique value for Category: \")\n",
        "print()\n",
        "print(playstore_df['Category'].unique(), sep=\"\\n\")"
      ],
      "metadata": {
        "colab": {
          "base_uri": "https://localhost:8080/"
        },
        "id": "-PYWHz8Ih6-o",
        "outputId": "2624d34e-98f6-4911-9f1a-2f8dbaed7520"
      },
      "execution_count": 9,
      "outputs": [
        {
          "output_type": "stream",
          "name": "stdout",
          "text": [
            "unique value for Category: \n",
            "\n",
            "['ART_AND_DESIGN' 'AUTO_AND_VEHICLES' 'BEAUTY' 'BOOKS_AND_REFERENCE'\n",
            " 'BUSINESS' 'COMICS' 'COMMUNICATION' 'DATING' 'EDUCATION' 'ENTERTAINMENT'\n",
            " 'EVENTS' 'FINANCE' 'FOOD_AND_DRINK' 'HEALTH_AND_FITNESS' 'HOUSE_AND_HOME'\n",
            " 'LIBRARIES_AND_DEMO' 'LIFESTYLE' 'GAME' 'FAMILY' 'MEDICAL' 'SOCIAL'\n",
            " 'SHOPPING' 'PHOTOGRAPHY' 'SPORTS' 'TRAVEL_AND_LOCAL' 'TOOLS'\n",
            " 'PERSONALIZATION' 'PRODUCTIVITY' 'PARENTING' 'WEATHER' 'VIDEO_PLAYERS'\n",
            " 'NEWS_AND_MAGAZINES' 'MAPS_AND_NAVIGATION']\n"
          ]
        }
      ]
    },
    {
      "cell_type": "code",
      "source": [
        "# inspecting the data again\n",
        "playstore_df.info()"
      ],
      "metadata": {
        "colab": {
          "base_uri": "https://localhost:8080/"
        },
        "id": "-B8agmWs-3iq",
        "outputId": "098fb932-0215-43b7-8b62-36ad5e7176e3"
      },
      "execution_count": 10,
      "outputs": [
        {
          "output_type": "stream",
          "name": "stdout",
          "text": [
            "<class 'pandas.core.frame.DataFrame'>\n",
            "Index: 9929 entries, Photo Editor & Candy Camera & Grid & ScrapBook to iHoroscope - 2018 Daily Horoscope & Astrology\n",
            "Data columns (total 12 columns):\n",
            " #   Column          Non-Null Count  Dtype  \n",
            "---  ------          --------------  -----  \n",
            " 0   Category        9929 non-null   object \n",
            " 1   Rating          8486 non-null   float64\n",
            " 2   Reviews         9929 non-null   float64\n",
            " 3   Size            9929 non-null   object \n",
            " 4   Installs        9929 non-null   float64\n",
            " 5   Type            9928 non-null   object \n",
            " 6   Price           9929 non-null   float64\n",
            " 7   Content Rating  9929 non-null   object \n",
            " 8   Genres          9929 non-null   object \n",
            " 9   Last Updated    9929 non-null   object \n",
            " 10  Current Ver     9921 non-null   object \n",
            " 11  Android Ver     9927 non-null   object \n",
            "dtypes: float64(4), object(8)\n",
            "memory usage: 1008.4+ KB\n"
          ]
        }
      ]
    },
    {
      "cell_type": "markdown",
      "source": [
        "# Uploading cleaned data to csv"
      ],
      "metadata": {
        "id": "IUu2uhjOIORM"
      }
    },
    {
      "cell_type": "code",
      "source": [
        "playstore_df.to_csv(\"cleaned_playstore.csv\")\n",
        "reviews_df.to_csv(\"cleaned_review.csv\")\n"
      ],
      "metadata": {
        "id": "KlWRMF-2qbXz"
      },
      "execution_count": 11,
      "outputs": []
    },
    {
      "cell_type": "code",
      "source": [],
      "metadata": {
        "id": "66BE8IHhrGN_"
      },
      "execution_count": 11,
      "outputs": []
    }
  ]
}