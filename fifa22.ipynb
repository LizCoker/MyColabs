{
  "nbformat": 4,
  "nbformat_minor": 0,
  "metadata": {
    "colab": {
      "provenance": [],
      "collapsed_sections": [
        "YND3vf6xThg0",
        "YWb70sp4Tu-T",
        "Xnnp7C0o4TGl",
        "I-iQ_QjjN5dY",
        "5sJgQtovKUle",
        "qg0Ej7nqNuQ5",
        "qkebGBaGSDu-",
        "aKQnJ70KTGd0",
        "qAWCnEglUkgl",
        "biw61R3qWoOc",
        "F_LFA5TAgH8J",
        "0IHsjKtzjXMh"
      ],
      "include_colab_link": true
    },
    "kernelspec": {
      "name": "python3",
      "display_name": "Python 3"
    },
    "language_info": {
      "name": "python"
    }
  },
  "cells": [
    {
      "cell_type": "markdown",
      "metadata": {
        "id": "view-in-github",
        "colab_type": "text"
      },
      "source": [
        "<a href=\"https://colab.research.google.com/github/LizCoker/MyColabs/blob/main/fifa22.ipynb\" target=\"_parent\"><img src=\"https://colab.research.google.com/assets/colab-badge.svg\" alt=\"Open In Colab\"/></a>"
      ]
    },
    {
      "cell_type": "markdown",
      "source": [
        "Soccer/Football is a sport that millions of people in the world are active enthusiasts. Several of the players have big fan bases for one or more attributes which make them stand out of the crowd. Coaches and Team managers are often on the lookout for the best players that can improve their chances at their various leagues. It will be helpful to know what attributes and distinct features are important to look at when making these big decisions.\n",
        "\n",
        "This analysis seeks to investigate a distinct attribute amongst these players that probably make them more valuable above the others. The attribute in question here will be the players' preferred playing foot. \n",
        "\n",
        "The analysis seeks to answer the following questions:\n",
        "Among the Top 1000 players;\n",
        "1. Can we establish any correlation between overall attribute and players wages?\n",
        "2. Is there a significant difference in the average overall attribute between players that play with the left foot and those that play with right foot.\n",
        "3. Do left-footers make significantly higher wages than right-footers?\n",
        "\n",
        "Based on the above questions, the hypotheses for this analysis are as follows:\n",
        "Among the Top 1000\n",
        "1. There is no correlation between players overall attribute and players wages.\n",
        "2. Left-footers' average overall attribute are not significantly different from that of right-footers.\n",
        "3. The average wages between left-footers and right-footers are not significantly different.\n",
        " "
      ],
      "metadata": {
        "id": "dQbQnWxWvhzm"
      }
    },
    {
      "cell_type": "markdown",
      "source": [
        "# Import Relevant Modules"
      ],
      "metadata": {
        "id": "YND3vf6xThg0"
      }
    },
    {
      "cell_type": "code",
      "execution_count": 1,
      "metadata": {
        "id": "cnj6YgUjaCps",
        "colab": {
          "base_uri": "https://localhost:8080/"
        },
        "outputId": "1b2aa670-cb49-490d-f9fb-14098662a5c7"
      },
      "outputs": [
        {
          "output_type": "stream",
          "name": "stdout",
          "text": [
            "Mounted at /content/gdrive\n"
          ]
        }
      ],
      "source": [
        "import numpy as np\n",
        "import pandas as pd\n",
        "from scipy import stats\n",
        "import math\n",
        "from scipy.io import arff\n",
        "import seaborn as sns\n",
        "import matplotlib.pyplot as plt\n",
        "from google.colab import drive\n",
        "drive.mount('/content/gdrive')"
      ]
    },
    {
      "cell_type": "markdown",
      "source": [
        "# Load Data\n",
        "\n",
        "This dataset is gotten from kaggle.com at the following [link](https://www.kaggle.com/datasets/stefanoleone992/fifa-22-complete-player-dataset?select=players_22.csv) and it contains data for 19,239 male players for the Career Mode FIFA 22 (\"players_22.csv\"). "
      ],
      "metadata": {
        "id": "uVDxx_xoTpSs"
      }
    },
    {
      "cell_type": "code",
      "source": [
        "fifa_df = pd.read_csv('/content/gdrive/MyDrive/players_22.csv')"
      ],
      "metadata": {
        "colab": {
          "base_uri": "https://localhost:8080/"
        },
        "id": "Ksk_aRtuaWVG",
        "outputId": "8a9b6b50-1371-45ec-9e52-c1c35b7dff78"
      },
      "execution_count": 2,
      "outputs": [
        {
          "output_type": "stream",
          "name": "stderr",
          "text": [
            "/usr/local/lib/python3.8/dist-packages/IPython/core/interactiveshell.py:3326: DtypeWarning: Columns (25,108) have mixed types.Specify dtype option on import or set low_memory=False.\n",
            "  exec(code_obj, self.user_global_ns, self.user_ns)\n"
          ]
        }
      ]
    },
    {
      "cell_type": "markdown",
      "source": [
        "# Inspect Dataset"
      ],
      "metadata": {
        "id": "YWb70sp4Tu-T"
      }
    },
    {
      "cell_type": "code",
      "source": [
        "fifa_df.info()"
      ],
      "metadata": {
        "colab": {
          "base_uri": "https://localhost:8080/"
        },
        "id": "eQKEQ8kEc461",
        "outputId": "e6c98e70-acf3-4b3d-9816-a520978ec295"
      },
      "execution_count": 3,
      "outputs": [
        {
          "output_type": "stream",
          "name": "stdout",
          "text": [
            "<class 'pandas.core.frame.DataFrame'>\n",
            "RangeIndex: 19239 entries, 0 to 19238\n",
            "Columns: 110 entries, sofifa_id to nation_flag_url\n",
            "dtypes: float64(16), int64(44), object(50)\n",
            "memory usage: 16.1+ MB\n"
          ]
        }
      ]
    },
    {
      "cell_type": "code",
      "source": [
        "fifa_df.sofifa_id = fifa_df['sofifa_id'].astype(str) # converting the id to type string so it wont be measured as an integer\n",
        "fifa_df.describe()"
      ],
      "metadata": {
        "colab": {
          "base_uri": "https://localhost:8080/",
          "height": 0
        },
        "id": "ME8r5P5_dAo0",
        "outputId": "4b3d8852-b4c0-4f04-c3ed-0baa11ade403"
      },
      "execution_count": 4,
      "outputs": [
        {
          "output_type": "execute_result",
          "data": {
            "text/plain": [
              "            overall     potential     value_eur       wage_eur           age  \\\n",
              "count  19239.000000  19239.000000  1.916500e+04   19178.000000  19239.000000   \n",
              "mean      65.772182     71.079370  2.850452e+06    9017.989363     25.210822   \n",
              "std        6.880232      6.086213  7.613700e+06   19470.176724      4.748235   \n",
              "min       47.000000     49.000000  9.000000e+03     500.000000     16.000000   \n",
              "25%       61.000000     67.000000  4.750000e+05    1000.000000     21.000000   \n",
              "50%       66.000000     71.000000  9.750000e+05    3000.000000     25.000000   \n",
              "75%       70.000000     75.000000  2.000000e+06    8000.000000     29.000000   \n",
              "max       93.000000     95.000000  1.940000e+08  350000.000000     54.000000   \n",
              "\n",
              "          height_cm     weight_kg   club_team_id  league_level  \\\n",
              "count  19239.000000  19239.000000   19178.000000  19178.000000   \n",
              "mean     181.299704     74.943032   50580.498123      1.354364   \n",
              "std        6.863179      7.069434   54401.868535      0.747865   \n",
              "min      155.000000     49.000000       1.000000      1.000000   \n",
              "25%      176.000000     70.000000     479.000000      1.000000   \n",
              "50%      181.000000     75.000000    1938.000000      1.000000   \n",
              "75%      186.000000     80.000000  111139.000000      1.000000   \n",
              "max      206.000000    110.000000  115820.000000      5.000000   \n",
              "\n",
              "       club_jersey_number  ...  mentality_composure  \\\n",
              "count        19178.000000  ...         19239.000000   \n",
              "mean            20.945250  ...            57.929830   \n",
              "std             17.909369  ...            12.159326   \n",
              "min              1.000000  ...            12.000000   \n",
              "25%              9.000000  ...            50.000000   \n",
              "50%             18.000000  ...            59.000000   \n",
              "75%             27.000000  ...            66.000000   \n",
              "max             99.000000  ...            96.000000   \n",
              "\n",
              "       defending_marking_awareness  defending_standing_tackle  \\\n",
              "count                 19239.000000               19239.000000   \n",
              "mean                     46.601746                  48.045584   \n",
              "std                      20.200807                  21.232718   \n",
              "min                       4.000000                   5.000000   \n",
              "25%                      29.000000                  28.000000   \n",
              "50%                      52.000000                  56.000000   \n",
              "75%                      63.000000                  65.000000   \n",
              "max                      93.000000                  93.000000   \n",
              "\n",
              "       defending_sliding_tackle  goalkeeping_diving  goalkeeping_handling  \\\n",
              "count              19239.000000        19239.000000          19239.000000   \n",
              "mean                  45.906700           16.406102             16.192474   \n",
              "std                   20.755683           17.574028             16.839528   \n",
              "min                    5.000000            2.000000              2.000000   \n",
              "25%                   25.000000            8.000000              8.000000   \n",
              "50%                   53.000000           11.000000             11.000000   \n",
              "75%                   63.000000           14.000000             14.000000   \n",
              "max                   92.000000           91.000000             92.000000   \n",
              "\n",
              "       goalkeeping_kicking  goalkeeping_positioning  goalkeeping_reflexes  \\\n",
              "count         19239.000000             19239.000000          19239.000000   \n",
              "mean             16.055356                16.229274             16.491814   \n",
              "std              16.564554                17.059779             17.884833   \n",
              "min               2.000000                 2.000000              2.000000   \n",
              "25%               8.000000                 8.000000              8.000000   \n",
              "50%              11.000000                11.000000             11.000000   \n",
              "75%              14.000000                14.000000             14.000000   \n",
              "max              93.000000                92.000000             90.000000   \n",
              "\n",
              "       goalkeeping_speed  \n",
              "count        2132.000000  \n",
              "mean           36.439962  \n",
              "std            10.751563  \n",
              "min            15.000000  \n",
              "25%            27.000000  \n",
              "50%            36.000000  \n",
              "75%            45.000000  \n",
              "max            65.000000  \n",
              "\n",
              "[8 rows x 59 columns]"
            ],
            "text/html": [
              "\n",
              "  <div id=\"df-7002d650-c8dd-40e9-a462-51aec146b8b5\">\n",
              "    <div class=\"colab-df-container\">\n",
              "      <div>\n",
              "<style scoped>\n",
              "    .dataframe tbody tr th:only-of-type {\n",
              "        vertical-align: middle;\n",
              "    }\n",
              "\n",
              "    .dataframe tbody tr th {\n",
              "        vertical-align: top;\n",
              "    }\n",
              "\n",
              "    .dataframe thead th {\n",
              "        text-align: right;\n",
              "    }\n",
              "</style>\n",
              "<table border=\"1\" class=\"dataframe\">\n",
              "  <thead>\n",
              "    <tr style=\"text-align: right;\">\n",
              "      <th></th>\n",
              "      <th>overall</th>\n",
              "      <th>potential</th>\n",
              "      <th>value_eur</th>\n",
              "      <th>wage_eur</th>\n",
              "      <th>age</th>\n",
              "      <th>height_cm</th>\n",
              "      <th>weight_kg</th>\n",
              "      <th>club_team_id</th>\n",
              "      <th>league_level</th>\n",
              "      <th>club_jersey_number</th>\n",
              "      <th>...</th>\n",
              "      <th>mentality_composure</th>\n",
              "      <th>defending_marking_awareness</th>\n",
              "      <th>defending_standing_tackle</th>\n",
              "      <th>defending_sliding_tackle</th>\n",
              "      <th>goalkeeping_diving</th>\n",
              "      <th>goalkeeping_handling</th>\n",
              "      <th>goalkeeping_kicking</th>\n",
              "      <th>goalkeeping_positioning</th>\n",
              "      <th>goalkeeping_reflexes</th>\n",
              "      <th>goalkeeping_speed</th>\n",
              "    </tr>\n",
              "  </thead>\n",
              "  <tbody>\n",
              "    <tr>\n",
              "      <th>count</th>\n",
              "      <td>19239.000000</td>\n",
              "      <td>19239.000000</td>\n",
              "      <td>1.916500e+04</td>\n",
              "      <td>19178.000000</td>\n",
              "      <td>19239.000000</td>\n",
              "      <td>19239.000000</td>\n",
              "      <td>19239.000000</td>\n",
              "      <td>19178.000000</td>\n",
              "      <td>19178.000000</td>\n",
              "      <td>19178.000000</td>\n",
              "      <td>...</td>\n",
              "      <td>19239.000000</td>\n",
              "      <td>19239.000000</td>\n",
              "      <td>19239.000000</td>\n",
              "      <td>19239.000000</td>\n",
              "      <td>19239.000000</td>\n",
              "      <td>19239.000000</td>\n",
              "      <td>19239.000000</td>\n",
              "      <td>19239.000000</td>\n",
              "      <td>19239.000000</td>\n",
              "      <td>2132.000000</td>\n",
              "    </tr>\n",
              "    <tr>\n",
              "      <th>mean</th>\n",
              "      <td>65.772182</td>\n",
              "      <td>71.079370</td>\n",
              "      <td>2.850452e+06</td>\n",
              "      <td>9017.989363</td>\n",
              "      <td>25.210822</td>\n",
              "      <td>181.299704</td>\n",
              "      <td>74.943032</td>\n",
              "      <td>50580.498123</td>\n",
              "      <td>1.354364</td>\n",
              "      <td>20.945250</td>\n",
              "      <td>...</td>\n",
              "      <td>57.929830</td>\n",
              "      <td>46.601746</td>\n",
              "      <td>48.045584</td>\n",
              "      <td>45.906700</td>\n",
              "      <td>16.406102</td>\n",
              "      <td>16.192474</td>\n",
              "      <td>16.055356</td>\n",
              "      <td>16.229274</td>\n",
              "      <td>16.491814</td>\n",
              "      <td>36.439962</td>\n",
              "    </tr>\n",
              "    <tr>\n",
              "      <th>std</th>\n",
              "      <td>6.880232</td>\n",
              "      <td>6.086213</td>\n",
              "      <td>7.613700e+06</td>\n",
              "      <td>19470.176724</td>\n",
              "      <td>4.748235</td>\n",
              "      <td>6.863179</td>\n",
              "      <td>7.069434</td>\n",
              "      <td>54401.868535</td>\n",
              "      <td>0.747865</td>\n",
              "      <td>17.909369</td>\n",
              "      <td>...</td>\n",
              "      <td>12.159326</td>\n",
              "      <td>20.200807</td>\n",
              "      <td>21.232718</td>\n",
              "      <td>20.755683</td>\n",
              "      <td>17.574028</td>\n",
              "      <td>16.839528</td>\n",
              "      <td>16.564554</td>\n",
              "      <td>17.059779</td>\n",
              "      <td>17.884833</td>\n",
              "      <td>10.751563</td>\n",
              "    </tr>\n",
              "    <tr>\n",
              "      <th>min</th>\n",
              "      <td>47.000000</td>\n",
              "      <td>49.000000</td>\n",
              "      <td>9.000000e+03</td>\n",
              "      <td>500.000000</td>\n",
              "      <td>16.000000</td>\n",
              "      <td>155.000000</td>\n",
              "      <td>49.000000</td>\n",
              "      <td>1.000000</td>\n",
              "      <td>1.000000</td>\n",
              "      <td>1.000000</td>\n",
              "      <td>...</td>\n",
              "      <td>12.000000</td>\n",
              "      <td>4.000000</td>\n",
              "      <td>5.000000</td>\n",
              "      <td>5.000000</td>\n",
              "      <td>2.000000</td>\n",
              "      <td>2.000000</td>\n",
              "      <td>2.000000</td>\n",
              "      <td>2.000000</td>\n",
              "      <td>2.000000</td>\n",
              "      <td>15.000000</td>\n",
              "    </tr>\n",
              "    <tr>\n",
              "      <th>25%</th>\n",
              "      <td>61.000000</td>\n",
              "      <td>67.000000</td>\n",
              "      <td>4.750000e+05</td>\n",
              "      <td>1000.000000</td>\n",
              "      <td>21.000000</td>\n",
              "      <td>176.000000</td>\n",
              "      <td>70.000000</td>\n",
              "      <td>479.000000</td>\n",
              "      <td>1.000000</td>\n",
              "      <td>9.000000</td>\n",
              "      <td>...</td>\n",
              "      <td>50.000000</td>\n",
              "      <td>29.000000</td>\n",
              "      <td>28.000000</td>\n",
              "      <td>25.000000</td>\n",
              "      <td>8.000000</td>\n",
              "      <td>8.000000</td>\n",
              "      <td>8.000000</td>\n",
              "      <td>8.000000</td>\n",
              "      <td>8.000000</td>\n",
              "      <td>27.000000</td>\n",
              "    </tr>\n",
              "    <tr>\n",
              "      <th>50%</th>\n",
              "      <td>66.000000</td>\n",
              "      <td>71.000000</td>\n",
              "      <td>9.750000e+05</td>\n",
              "      <td>3000.000000</td>\n",
              "      <td>25.000000</td>\n",
              "      <td>181.000000</td>\n",
              "      <td>75.000000</td>\n",
              "      <td>1938.000000</td>\n",
              "      <td>1.000000</td>\n",
              "      <td>18.000000</td>\n",
              "      <td>...</td>\n",
              "      <td>59.000000</td>\n",
              "      <td>52.000000</td>\n",
              "      <td>56.000000</td>\n",
              "      <td>53.000000</td>\n",
              "      <td>11.000000</td>\n",
              "      <td>11.000000</td>\n",
              "      <td>11.000000</td>\n",
              "      <td>11.000000</td>\n",
              "      <td>11.000000</td>\n",
              "      <td>36.000000</td>\n",
              "    </tr>\n",
              "    <tr>\n",
              "      <th>75%</th>\n",
              "      <td>70.000000</td>\n",
              "      <td>75.000000</td>\n",
              "      <td>2.000000e+06</td>\n",
              "      <td>8000.000000</td>\n",
              "      <td>29.000000</td>\n",
              "      <td>186.000000</td>\n",
              "      <td>80.000000</td>\n",
              "      <td>111139.000000</td>\n",
              "      <td>1.000000</td>\n",
              "      <td>27.000000</td>\n",
              "      <td>...</td>\n",
              "      <td>66.000000</td>\n",
              "      <td>63.000000</td>\n",
              "      <td>65.000000</td>\n",
              "      <td>63.000000</td>\n",
              "      <td>14.000000</td>\n",
              "      <td>14.000000</td>\n",
              "      <td>14.000000</td>\n",
              "      <td>14.000000</td>\n",
              "      <td>14.000000</td>\n",
              "      <td>45.000000</td>\n",
              "    </tr>\n",
              "    <tr>\n",
              "      <th>max</th>\n",
              "      <td>93.000000</td>\n",
              "      <td>95.000000</td>\n",
              "      <td>1.940000e+08</td>\n",
              "      <td>350000.000000</td>\n",
              "      <td>54.000000</td>\n",
              "      <td>206.000000</td>\n",
              "      <td>110.000000</td>\n",
              "      <td>115820.000000</td>\n",
              "      <td>5.000000</td>\n",
              "      <td>99.000000</td>\n",
              "      <td>...</td>\n",
              "      <td>96.000000</td>\n",
              "      <td>93.000000</td>\n",
              "      <td>93.000000</td>\n",
              "      <td>92.000000</td>\n",
              "      <td>91.000000</td>\n",
              "      <td>92.000000</td>\n",
              "      <td>93.000000</td>\n",
              "      <td>92.000000</td>\n",
              "      <td>90.000000</td>\n",
              "      <td>65.000000</td>\n",
              "    </tr>\n",
              "  </tbody>\n",
              "</table>\n",
              "<p>8 rows × 59 columns</p>\n",
              "</div>\n",
              "      <button class=\"colab-df-convert\" onclick=\"convertToInteractive('df-7002d650-c8dd-40e9-a462-51aec146b8b5')\"\n",
              "              title=\"Convert this dataframe to an interactive table.\"\n",
              "              style=\"display:none;\">\n",
              "        \n",
              "  <svg xmlns=\"http://www.w3.org/2000/svg\" height=\"24px\"viewBox=\"0 0 24 24\"\n",
              "       width=\"24px\">\n",
              "    <path d=\"M0 0h24v24H0V0z\" fill=\"none\"/>\n",
              "    <path d=\"M18.56 5.44l.94 2.06.94-2.06 2.06-.94-2.06-.94-.94-2.06-.94 2.06-2.06.94zm-11 1L8.5 8.5l.94-2.06 2.06-.94-2.06-.94L8.5 2.5l-.94 2.06-2.06.94zm10 10l.94 2.06.94-2.06 2.06-.94-2.06-.94-.94-2.06-.94 2.06-2.06.94z\"/><path d=\"M17.41 7.96l-1.37-1.37c-.4-.4-.92-.59-1.43-.59-.52 0-1.04.2-1.43.59L10.3 9.45l-7.72 7.72c-.78.78-.78 2.05 0 2.83L4 21.41c.39.39.9.59 1.41.59.51 0 1.02-.2 1.41-.59l7.78-7.78 2.81-2.81c.8-.78.8-2.07 0-2.86zM5.41 20L4 18.59l7.72-7.72 1.47 1.35L5.41 20z\"/>\n",
              "  </svg>\n",
              "      </button>\n",
              "      \n",
              "  <style>\n",
              "    .colab-df-container {\n",
              "      display:flex;\n",
              "      flex-wrap:wrap;\n",
              "      gap: 12px;\n",
              "    }\n",
              "\n",
              "    .colab-df-convert {\n",
              "      background-color: #E8F0FE;\n",
              "      border: none;\n",
              "      border-radius: 50%;\n",
              "      cursor: pointer;\n",
              "      display: none;\n",
              "      fill: #1967D2;\n",
              "      height: 32px;\n",
              "      padding: 0 0 0 0;\n",
              "      width: 32px;\n",
              "    }\n",
              "\n",
              "    .colab-df-convert:hover {\n",
              "      background-color: #E2EBFA;\n",
              "      box-shadow: 0px 1px 2px rgba(60, 64, 67, 0.3), 0px 1px 3px 1px rgba(60, 64, 67, 0.15);\n",
              "      fill: #174EA6;\n",
              "    }\n",
              "\n",
              "    [theme=dark] .colab-df-convert {\n",
              "      background-color: #3B4455;\n",
              "      fill: #D2E3FC;\n",
              "    }\n",
              "\n",
              "    [theme=dark] .colab-df-convert:hover {\n",
              "      background-color: #434B5C;\n",
              "      box-shadow: 0px 1px 3px 1px rgba(0, 0, 0, 0.15);\n",
              "      filter: drop-shadow(0px 1px 2px rgba(0, 0, 0, 0.3));\n",
              "      fill: #FFFFFF;\n",
              "    }\n",
              "  </style>\n",
              "\n",
              "      <script>\n",
              "        const buttonEl =\n",
              "          document.querySelector('#df-7002d650-c8dd-40e9-a462-51aec146b8b5 button.colab-df-convert');\n",
              "        buttonEl.style.display =\n",
              "          google.colab.kernel.accessAllowed ? 'block' : 'none';\n",
              "\n",
              "        async function convertToInteractive(key) {\n",
              "          const element = document.querySelector('#df-7002d650-c8dd-40e9-a462-51aec146b8b5');\n",
              "          const dataTable =\n",
              "            await google.colab.kernel.invokeFunction('convertToInteractive',\n",
              "                                                     [key], {});\n",
              "          if (!dataTable) return;\n",
              "\n",
              "          const docLinkHtml = 'Like what you see? Visit the ' +\n",
              "            '<a target=\"_blank\" href=https://colab.research.google.com/notebooks/data_table.ipynb>data table notebook</a>'\n",
              "            + ' to learn more about interactive tables.';\n",
              "          element.innerHTML = '';\n",
              "          dataTable['output_type'] = 'display_data';\n",
              "          await google.colab.output.renderOutput(dataTable, element);\n",
              "          const docLink = document.createElement('div');\n",
              "          docLink.innerHTML = docLinkHtml;\n",
              "          element.appendChild(docLink);\n",
              "        }\n",
              "      </script>\n",
              "    </div>\n",
              "  </div>\n",
              "  "
            ]
          },
          "metadata": {},
          "execution_count": 4
        }
      ]
    },
    {
      "cell_type": "code",
      "source": [
        "fifa_df.head()"
      ],
      "metadata": {
        "colab": {
          "base_uri": "https://localhost:8080/",
          "height": 0
        },
        "id": "V9B0jguUdEGA",
        "outputId": "07ce7a50-a24d-4e55-b78c-30ce2e346d1d"
      },
      "execution_count": 5,
      "outputs": [
        {
          "output_type": "execute_result",
          "data": {
            "text/plain": [
              "  sofifa_id                                         player_url  \\\n",
              "0    158023  https://sofifa.com/player/158023/lionel-messi/...   \n",
              "1    188545  https://sofifa.com/player/188545/robert-lewand...   \n",
              "2     20801  https://sofifa.com/player/20801/c-ronaldo-dos-...   \n",
              "3    190871  https://sofifa.com/player/190871/neymar-da-sil...   \n",
              "4    192985  https://sofifa.com/player/192985/kevin-de-bruy...   \n",
              "\n",
              "          short_name                            long_name player_positions  \\\n",
              "0           L. Messi       Lionel Andrés Messi Cuccittini       RW, ST, CF   \n",
              "1     R. Lewandowski                   Robert Lewandowski               ST   \n",
              "2  Cristiano Ronaldo  Cristiano Ronaldo dos Santos Aveiro           ST, LW   \n",
              "3          Neymar Jr        Neymar da Silva Santos Júnior          LW, CAM   \n",
              "4       K. De Bruyne                      Kevin De Bruyne          CM, CAM   \n",
              "\n",
              "   overall  potential    value_eur  wage_eur  age  ...   lcb    cb   rcb  \\\n",
              "0       93         93   78000000.0  320000.0   34  ...  50+3  50+3  50+3   \n",
              "1       92         92  119500000.0  270000.0   32  ...  60+3  60+3  60+3   \n",
              "2       91         91   45000000.0  270000.0   36  ...  53+3  53+3  53+3   \n",
              "3       91         91  129000000.0  270000.0   29  ...  50+3  50+3  50+3   \n",
              "4       91         91  125500000.0  350000.0   30  ...  69+3  69+3  69+3   \n",
              "\n",
              "     rb    gk                                    player_face_url  \\\n",
              "0  61+3  19+3  https://cdn.sofifa.net/players/158/023/22_120.png   \n",
              "1  61+3  19+3  https://cdn.sofifa.net/players/188/545/22_120.png   \n",
              "2  60+3  20+3  https://cdn.sofifa.net/players/020/801/22_120.png   \n",
              "3  62+3  20+3  https://cdn.sofifa.net/players/190/871/22_120.png   \n",
              "4  75+3  21+3  https://cdn.sofifa.net/players/192/985/22_120.png   \n",
              "\n",
              "                            club_logo_url  \\\n",
              "0  https://cdn.sofifa.net/teams/73/60.png   \n",
              "1  https://cdn.sofifa.net/teams/21/60.png   \n",
              "2  https://cdn.sofifa.net/teams/11/60.png   \n",
              "3  https://cdn.sofifa.net/teams/73/60.png   \n",
              "4  https://cdn.sofifa.net/teams/10/60.png   \n",
              "\n",
              "                             club_flag_url  \\\n",
              "0      https://cdn.sofifa.net/flags/fr.png   \n",
              "1      https://cdn.sofifa.net/flags/de.png   \n",
              "2  https://cdn.sofifa.net/flags/gb-eng.png   \n",
              "3      https://cdn.sofifa.net/flags/fr.png   \n",
              "4  https://cdn.sofifa.net/flags/gb-eng.png   \n",
              "\n",
              "                            nation_logo_url  \\\n",
              "0  https://cdn.sofifa.net/teams/1369/60.png   \n",
              "1  https://cdn.sofifa.net/teams/1353/60.png   \n",
              "2  https://cdn.sofifa.net/teams/1354/60.png   \n",
              "3                                       NaN   \n",
              "4  https://cdn.sofifa.net/teams/1325/60.png   \n",
              "\n",
              "                       nation_flag_url  \n",
              "0  https://cdn.sofifa.net/flags/ar.png  \n",
              "1  https://cdn.sofifa.net/flags/pl.png  \n",
              "2  https://cdn.sofifa.net/flags/pt.png  \n",
              "3  https://cdn.sofifa.net/flags/br.png  \n",
              "4  https://cdn.sofifa.net/flags/be.png  \n",
              "\n",
              "[5 rows x 110 columns]"
            ],
            "text/html": [
              "\n",
              "  <div id=\"df-e6c807a7-e6e1-421a-aceb-f40077ec3cdf\">\n",
              "    <div class=\"colab-df-container\">\n",
              "      <div>\n",
              "<style scoped>\n",
              "    .dataframe tbody tr th:only-of-type {\n",
              "        vertical-align: middle;\n",
              "    }\n",
              "\n",
              "    .dataframe tbody tr th {\n",
              "        vertical-align: top;\n",
              "    }\n",
              "\n",
              "    .dataframe thead th {\n",
              "        text-align: right;\n",
              "    }\n",
              "</style>\n",
              "<table border=\"1\" class=\"dataframe\">\n",
              "  <thead>\n",
              "    <tr style=\"text-align: right;\">\n",
              "      <th></th>\n",
              "      <th>sofifa_id</th>\n",
              "      <th>player_url</th>\n",
              "      <th>short_name</th>\n",
              "      <th>long_name</th>\n",
              "      <th>player_positions</th>\n",
              "      <th>overall</th>\n",
              "      <th>potential</th>\n",
              "      <th>value_eur</th>\n",
              "      <th>wage_eur</th>\n",
              "      <th>age</th>\n",
              "      <th>...</th>\n",
              "      <th>lcb</th>\n",
              "      <th>cb</th>\n",
              "      <th>rcb</th>\n",
              "      <th>rb</th>\n",
              "      <th>gk</th>\n",
              "      <th>player_face_url</th>\n",
              "      <th>club_logo_url</th>\n",
              "      <th>club_flag_url</th>\n",
              "      <th>nation_logo_url</th>\n",
              "      <th>nation_flag_url</th>\n",
              "    </tr>\n",
              "  </thead>\n",
              "  <tbody>\n",
              "    <tr>\n",
              "      <th>0</th>\n",
              "      <td>158023</td>\n",
              "      <td>https://sofifa.com/player/158023/lionel-messi/...</td>\n",
              "      <td>L. Messi</td>\n",
              "      <td>Lionel Andrés Messi Cuccittini</td>\n",
              "      <td>RW, ST, CF</td>\n",
              "      <td>93</td>\n",
              "      <td>93</td>\n",
              "      <td>78000000.0</td>\n",
              "      <td>320000.0</td>\n",
              "      <td>34</td>\n",
              "      <td>...</td>\n",
              "      <td>50+3</td>\n",
              "      <td>50+3</td>\n",
              "      <td>50+3</td>\n",
              "      <td>61+3</td>\n",
              "      <td>19+3</td>\n",
              "      <td>https://cdn.sofifa.net/players/158/023/22_120.png</td>\n",
              "      <td>https://cdn.sofifa.net/teams/73/60.png</td>\n",
              "      <td>https://cdn.sofifa.net/flags/fr.png</td>\n",
              "      <td>https://cdn.sofifa.net/teams/1369/60.png</td>\n",
              "      <td>https://cdn.sofifa.net/flags/ar.png</td>\n",
              "    </tr>\n",
              "    <tr>\n",
              "      <th>1</th>\n",
              "      <td>188545</td>\n",
              "      <td>https://sofifa.com/player/188545/robert-lewand...</td>\n",
              "      <td>R. Lewandowski</td>\n",
              "      <td>Robert Lewandowski</td>\n",
              "      <td>ST</td>\n",
              "      <td>92</td>\n",
              "      <td>92</td>\n",
              "      <td>119500000.0</td>\n",
              "      <td>270000.0</td>\n",
              "      <td>32</td>\n",
              "      <td>...</td>\n",
              "      <td>60+3</td>\n",
              "      <td>60+3</td>\n",
              "      <td>60+3</td>\n",
              "      <td>61+3</td>\n",
              "      <td>19+3</td>\n",
              "      <td>https://cdn.sofifa.net/players/188/545/22_120.png</td>\n",
              "      <td>https://cdn.sofifa.net/teams/21/60.png</td>\n",
              "      <td>https://cdn.sofifa.net/flags/de.png</td>\n",
              "      <td>https://cdn.sofifa.net/teams/1353/60.png</td>\n",
              "      <td>https://cdn.sofifa.net/flags/pl.png</td>\n",
              "    </tr>\n",
              "    <tr>\n",
              "      <th>2</th>\n",
              "      <td>20801</td>\n",
              "      <td>https://sofifa.com/player/20801/c-ronaldo-dos-...</td>\n",
              "      <td>Cristiano Ronaldo</td>\n",
              "      <td>Cristiano Ronaldo dos Santos Aveiro</td>\n",
              "      <td>ST, LW</td>\n",
              "      <td>91</td>\n",
              "      <td>91</td>\n",
              "      <td>45000000.0</td>\n",
              "      <td>270000.0</td>\n",
              "      <td>36</td>\n",
              "      <td>...</td>\n",
              "      <td>53+3</td>\n",
              "      <td>53+3</td>\n",
              "      <td>53+3</td>\n",
              "      <td>60+3</td>\n",
              "      <td>20+3</td>\n",
              "      <td>https://cdn.sofifa.net/players/020/801/22_120.png</td>\n",
              "      <td>https://cdn.sofifa.net/teams/11/60.png</td>\n",
              "      <td>https://cdn.sofifa.net/flags/gb-eng.png</td>\n",
              "      <td>https://cdn.sofifa.net/teams/1354/60.png</td>\n",
              "      <td>https://cdn.sofifa.net/flags/pt.png</td>\n",
              "    </tr>\n",
              "    <tr>\n",
              "      <th>3</th>\n",
              "      <td>190871</td>\n",
              "      <td>https://sofifa.com/player/190871/neymar-da-sil...</td>\n",
              "      <td>Neymar Jr</td>\n",
              "      <td>Neymar da Silva Santos Júnior</td>\n",
              "      <td>LW, CAM</td>\n",
              "      <td>91</td>\n",
              "      <td>91</td>\n",
              "      <td>129000000.0</td>\n",
              "      <td>270000.0</td>\n",
              "      <td>29</td>\n",
              "      <td>...</td>\n",
              "      <td>50+3</td>\n",
              "      <td>50+3</td>\n",
              "      <td>50+3</td>\n",
              "      <td>62+3</td>\n",
              "      <td>20+3</td>\n",
              "      <td>https://cdn.sofifa.net/players/190/871/22_120.png</td>\n",
              "      <td>https://cdn.sofifa.net/teams/73/60.png</td>\n",
              "      <td>https://cdn.sofifa.net/flags/fr.png</td>\n",
              "      <td>NaN</td>\n",
              "      <td>https://cdn.sofifa.net/flags/br.png</td>\n",
              "    </tr>\n",
              "    <tr>\n",
              "      <th>4</th>\n",
              "      <td>192985</td>\n",
              "      <td>https://sofifa.com/player/192985/kevin-de-bruy...</td>\n",
              "      <td>K. De Bruyne</td>\n",
              "      <td>Kevin De Bruyne</td>\n",
              "      <td>CM, CAM</td>\n",
              "      <td>91</td>\n",
              "      <td>91</td>\n",
              "      <td>125500000.0</td>\n",
              "      <td>350000.0</td>\n",
              "      <td>30</td>\n",
              "      <td>...</td>\n",
              "      <td>69+3</td>\n",
              "      <td>69+3</td>\n",
              "      <td>69+3</td>\n",
              "      <td>75+3</td>\n",
              "      <td>21+3</td>\n",
              "      <td>https://cdn.sofifa.net/players/192/985/22_120.png</td>\n",
              "      <td>https://cdn.sofifa.net/teams/10/60.png</td>\n",
              "      <td>https://cdn.sofifa.net/flags/gb-eng.png</td>\n",
              "      <td>https://cdn.sofifa.net/teams/1325/60.png</td>\n",
              "      <td>https://cdn.sofifa.net/flags/be.png</td>\n",
              "    </tr>\n",
              "  </tbody>\n",
              "</table>\n",
              "<p>5 rows × 110 columns</p>\n",
              "</div>\n",
              "      <button class=\"colab-df-convert\" onclick=\"convertToInteractive('df-e6c807a7-e6e1-421a-aceb-f40077ec3cdf')\"\n",
              "              title=\"Convert this dataframe to an interactive table.\"\n",
              "              style=\"display:none;\">\n",
              "        \n",
              "  <svg xmlns=\"http://www.w3.org/2000/svg\" height=\"24px\"viewBox=\"0 0 24 24\"\n",
              "       width=\"24px\">\n",
              "    <path d=\"M0 0h24v24H0V0z\" fill=\"none\"/>\n",
              "    <path d=\"M18.56 5.44l.94 2.06.94-2.06 2.06-.94-2.06-.94-.94-2.06-.94 2.06-2.06.94zm-11 1L8.5 8.5l.94-2.06 2.06-.94-2.06-.94L8.5 2.5l-.94 2.06-2.06.94zm10 10l.94 2.06.94-2.06 2.06-.94-2.06-.94-.94-2.06-.94 2.06-2.06.94z\"/><path d=\"M17.41 7.96l-1.37-1.37c-.4-.4-.92-.59-1.43-.59-.52 0-1.04.2-1.43.59L10.3 9.45l-7.72 7.72c-.78.78-.78 2.05 0 2.83L4 21.41c.39.39.9.59 1.41.59.51 0 1.02-.2 1.41-.59l7.78-7.78 2.81-2.81c.8-.78.8-2.07 0-2.86zM5.41 20L4 18.59l7.72-7.72 1.47 1.35L5.41 20z\"/>\n",
              "  </svg>\n",
              "      </button>\n",
              "      \n",
              "  <style>\n",
              "    .colab-df-container {\n",
              "      display:flex;\n",
              "      flex-wrap:wrap;\n",
              "      gap: 12px;\n",
              "    }\n",
              "\n",
              "    .colab-df-convert {\n",
              "      background-color: #E8F0FE;\n",
              "      border: none;\n",
              "      border-radius: 50%;\n",
              "      cursor: pointer;\n",
              "      display: none;\n",
              "      fill: #1967D2;\n",
              "      height: 32px;\n",
              "      padding: 0 0 0 0;\n",
              "      width: 32px;\n",
              "    }\n",
              "\n",
              "    .colab-df-convert:hover {\n",
              "      background-color: #E2EBFA;\n",
              "      box-shadow: 0px 1px 2px rgba(60, 64, 67, 0.3), 0px 1px 3px 1px rgba(60, 64, 67, 0.15);\n",
              "      fill: #174EA6;\n",
              "    }\n",
              "\n",
              "    [theme=dark] .colab-df-convert {\n",
              "      background-color: #3B4455;\n",
              "      fill: #D2E3FC;\n",
              "    }\n",
              "\n",
              "    [theme=dark] .colab-df-convert:hover {\n",
              "      background-color: #434B5C;\n",
              "      box-shadow: 0px 1px 3px 1px rgba(0, 0, 0, 0.15);\n",
              "      filter: drop-shadow(0px 1px 2px rgba(0, 0, 0, 0.3));\n",
              "      fill: #FFFFFF;\n",
              "    }\n",
              "  </style>\n",
              "\n",
              "      <script>\n",
              "        const buttonEl =\n",
              "          document.querySelector('#df-e6c807a7-e6e1-421a-aceb-f40077ec3cdf button.colab-df-convert');\n",
              "        buttonEl.style.display =\n",
              "          google.colab.kernel.accessAllowed ? 'block' : 'none';\n",
              "\n",
              "        async function convertToInteractive(key) {\n",
              "          const element = document.querySelector('#df-e6c807a7-e6e1-421a-aceb-f40077ec3cdf');\n",
              "          const dataTable =\n",
              "            await google.colab.kernel.invokeFunction('convertToInteractive',\n",
              "                                                     [key], {});\n",
              "          if (!dataTable) return;\n",
              "\n",
              "          const docLinkHtml = 'Like what you see? Visit the ' +\n",
              "            '<a target=\"_blank\" href=https://colab.research.google.com/notebooks/data_table.ipynb>data table notebook</a>'\n",
              "            + ' to learn more about interactive tables.';\n",
              "          element.innerHTML = '';\n",
              "          dataTable['output_type'] = 'display_data';\n",
              "          await google.colab.output.renderOutput(dataTable, element);\n",
              "          const docLink = document.createElement('div');\n",
              "          docLink.innerHTML = docLinkHtml;\n",
              "          element.appendChild(docLink);\n",
              "        }\n",
              "      </script>\n",
              "    </div>\n",
              "  </div>\n",
              "  "
            ]
          },
          "metadata": {},
          "execution_count": 5
        }
      ]
    },
    {
      "cell_type": "markdown",
      "source": [
        "The dataset contains 19239 rows and 110 columns. At this point, whether we have missing data or not has not been revealed."
      ],
      "metadata": {
        "id": "TZw4f7PMrROJ"
      }
    },
    {
      "cell_type": "markdown",
      "source": [
        "There exists so many unhelpful columns in the dataset as relating to this analysis"
      ],
      "metadata": {
        "id": "Mv8iIgVqvKdU"
      }
    },
    {
      "cell_type": "markdown",
      "source": [
        "# Cleaning the data\n",
        "\n",
        "In this analysis, the variables that will be included out of the available 110 are:\n",
        "1. sofifa_id \n",
        "2. short_name\n",
        "3. overall\n",
        "4. value_eur\n",
        "5. wage_eur\n",
        "6. preferred_foot"
      ],
      "metadata": {
        "id": "Xnnp7C0o4TGl"
      }
    },
    {
      "cell_type": "code",
      "source": [
        "# Selection of columns that will be used in this analysis\n",
        "fifa_new_df = fifa_df.iloc[:, [0,2,5,7,8,27]]\n",
        "print(fifa_new_df.head())\n",
        "print(fifa_new_df.info())"
      ],
      "metadata": {
        "id": "ZeMSav7JhElV",
        "colab": {
          "base_uri": "https://localhost:8080/"
        },
        "outputId": "739c7e92-a45a-48be-becf-faeb9dd1c102"
      },
      "execution_count": 6,
      "outputs": [
        {
          "output_type": "stream",
          "name": "stdout",
          "text": [
            "  sofifa_id         short_name  overall    value_eur  wage_eur preferred_foot\n",
            "0    158023           L. Messi       93   78000000.0  320000.0           Left\n",
            "1    188545     R. Lewandowski       92  119500000.0  270000.0          Right\n",
            "2     20801  Cristiano Ronaldo       91   45000000.0  270000.0          Right\n",
            "3    190871          Neymar Jr       91  129000000.0  270000.0          Right\n",
            "4    192985       K. De Bruyne       91  125500000.0  350000.0          Right\n",
            "<class 'pandas.core.frame.DataFrame'>\n",
            "RangeIndex: 19239 entries, 0 to 19238\n",
            "Data columns (total 6 columns):\n",
            " #   Column          Non-Null Count  Dtype  \n",
            "---  ------          --------------  -----  \n",
            " 0   sofifa_id       19239 non-null  object \n",
            " 1   short_name      19239 non-null  object \n",
            " 2   overall         19239 non-null  int64  \n",
            " 3   value_eur       19165 non-null  float64\n",
            " 4   wage_eur        19178 non-null  float64\n",
            " 5   preferred_foot  19239 non-null  object \n",
            "dtypes: float64(2), int64(1), object(3)\n",
            "memory usage: 902.0+ KB\n",
            "None\n"
          ]
        }
      ]
    },
    {
      "cell_type": "code",
      "source": [
        "null_rows = fifa_new_df[fifa_new_df.isnull().any(axis=1)]\n",
        "null_rows"
      ],
      "metadata": {
        "colab": {
          "base_uri": "https://localhost:8080/",
          "height": 0
        },
        "id": "7y5aoA6VYani",
        "outputId": "a792c22b-4a2a-4d99-bc28-0939d8bec5ec"
      },
      "execution_count": 7,
      "outputs": [
        {
          "output_type": "execute_result",
          "data": {
            "text/plain": [
              "      sofifa_id       short_name  overall  value_eur  wage_eur preferred_foot\n",
              "147      184087  T. Alderweireld       83        NaN       NaN          Right\n",
              "416      197242    G. Krychowiak       80        NaN       NaN          Right\n",
              "694      187607        A. Dzyuba       78        NaN       NaN          Right\n",
              "926      200094        M. Ozdoev       77        NaN       NaN          Right\n",
              "1146     154950       Y. Zhirkov       76        NaN       NaN           Left\n",
              "...         ...              ...      ...        ...       ...            ...\n",
              "14654    241475         P. Soiri       61        NaN       NaN          Right\n",
              "16209    254704         K. Miura       59        NaN     700.0          Right\n",
              "16505      2702       K. Ellison       58        NaN    2000.0           Left\n",
              "16506     29118           S. Ono       58        NaN     800.0          Right\n",
              "17720    262371        C. Dundas       56        NaN    1000.0          Right\n",
              "\n",
              "[74 rows x 6 columns]"
            ],
            "text/html": [
              "\n",
              "  <div id=\"df-73baadf3-ead7-4a43-9331-8ef3b99ee221\">\n",
              "    <div class=\"colab-df-container\">\n",
              "      <div>\n",
              "<style scoped>\n",
              "    .dataframe tbody tr th:only-of-type {\n",
              "        vertical-align: middle;\n",
              "    }\n",
              "\n",
              "    .dataframe tbody tr th {\n",
              "        vertical-align: top;\n",
              "    }\n",
              "\n",
              "    .dataframe thead th {\n",
              "        text-align: right;\n",
              "    }\n",
              "</style>\n",
              "<table border=\"1\" class=\"dataframe\">\n",
              "  <thead>\n",
              "    <tr style=\"text-align: right;\">\n",
              "      <th></th>\n",
              "      <th>sofifa_id</th>\n",
              "      <th>short_name</th>\n",
              "      <th>overall</th>\n",
              "      <th>value_eur</th>\n",
              "      <th>wage_eur</th>\n",
              "      <th>preferred_foot</th>\n",
              "    </tr>\n",
              "  </thead>\n",
              "  <tbody>\n",
              "    <tr>\n",
              "      <th>147</th>\n",
              "      <td>184087</td>\n",
              "      <td>T. Alderweireld</td>\n",
              "      <td>83</td>\n",
              "      <td>NaN</td>\n",
              "      <td>NaN</td>\n",
              "      <td>Right</td>\n",
              "    </tr>\n",
              "    <tr>\n",
              "      <th>416</th>\n",
              "      <td>197242</td>\n",
              "      <td>G. Krychowiak</td>\n",
              "      <td>80</td>\n",
              "      <td>NaN</td>\n",
              "      <td>NaN</td>\n",
              "      <td>Right</td>\n",
              "    </tr>\n",
              "    <tr>\n",
              "      <th>694</th>\n",
              "      <td>187607</td>\n",
              "      <td>A. Dzyuba</td>\n",
              "      <td>78</td>\n",
              "      <td>NaN</td>\n",
              "      <td>NaN</td>\n",
              "      <td>Right</td>\n",
              "    </tr>\n",
              "    <tr>\n",
              "      <th>926</th>\n",
              "      <td>200094</td>\n",
              "      <td>M. Ozdoev</td>\n",
              "      <td>77</td>\n",
              "      <td>NaN</td>\n",
              "      <td>NaN</td>\n",
              "      <td>Right</td>\n",
              "    </tr>\n",
              "    <tr>\n",
              "      <th>1146</th>\n",
              "      <td>154950</td>\n",
              "      <td>Y. Zhirkov</td>\n",
              "      <td>76</td>\n",
              "      <td>NaN</td>\n",
              "      <td>NaN</td>\n",
              "      <td>Left</td>\n",
              "    </tr>\n",
              "    <tr>\n",
              "      <th>...</th>\n",
              "      <td>...</td>\n",
              "      <td>...</td>\n",
              "      <td>...</td>\n",
              "      <td>...</td>\n",
              "      <td>...</td>\n",
              "      <td>...</td>\n",
              "    </tr>\n",
              "    <tr>\n",
              "      <th>14654</th>\n",
              "      <td>241475</td>\n",
              "      <td>P. Soiri</td>\n",
              "      <td>61</td>\n",
              "      <td>NaN</td>\n",
              "      <td>NaN</td>\n",
              "      <td>Right</td>\n",
              "    </tr>\n",
              "    <tr>\n",
              "      <th>16209</th>\n",
              "      <td>254704</td>\n",
              "      <td>K. Miura</td>\n",
              "      <td>59</td>\n",
              "      <td>NaN</td>\n",
              "      <td>700.0</td>\n",
              "      <td>Right</td>\n",
              "    </tr>\n",
              "    <tr>\n",
              "      <th>16505</th>\n",
              "      <td>2702</td>\n",
              "      <td>K. Ellison</td>\n",
              "      <td>58</td>\n",
              "      <td>NaN</td>\n",
              "      <td>2000.0</td>\n",
              "      <td>Left</td>\n",
              "    </tr>\n",
              "    <tr>\n",
              "      <th>16506</th>\n",
              "      <td>29118</td>\n",
              "      <td>S. Ono</td>\n",
              "      <td>58</td>\n",
              "      <td>NaN</td>\n",
              "      <td>800.0</td>\n",
              "      <td>Right</td>\n",
              "    </tr>\n",
              "    <tr>\n",
              "      <th>17720</th>\n",
              "      <td>262371</td>\n",
              "      <td>C. Dundas</td>\n",
              "      <td>56</td>\n",
              "      <td>NaN</td>\n",
              "      <td>1000.0</td>\n",
              "      <td>Right</td>\n",
              "    </tr>\n",
              "  </tbody>\n",
              "</table>\n",
              "<p>74 rows × 6 columns</p>\n",
              "</div>\n",
              "      <button class=\"colab-df-convert\" onclick=\"convertToInteractive('df-73baadf3-ead7-4a43-9331-8ef3b99ee221')\"\n",
              "              title=\"Convert this dataframe to an interactive table.\"\n",
              "              style=\"display:none;\">\n",
              "        \n",
              "  <svg xmlns=\"http://www.w3.org/2000/svg\" height=\"24px\"viewBox=\"0 0 24 24\"\n",
              "       width=\"24px\">\n",
              "    <path d=\"M0 0h24v24H0V0z\" fill=\"none\"/>\n",
              "    <path d=\"M18.56 5.44l.94 2.06.94-2.06 2.06-.94-2.06-.94-.94-2.06-.94 2.06-2.06.94zm-11 1L8.5 8.5l.94-2.06 2.06-.94-2.06-.94L8.5 2.5l-.94 2.06-2.06.94zm10 10l.94 2.06.94-2.06 2.06-.94-2.06-.94-.94-2.06-.94 2.06-2.06.94z\"/><path d=\"M17.41 7.96l-1.37-1.37c-.4-.4-.92-.59-1.43-.59-.52 0-1.04.2-1.43.59L10.3 9.45l-7.72 7.72c-.78.78-.78 2.05 0 2.83L4 21.41c.39.39.9.59 1.41.59.51 0 1.02-.2 1.41-.59l7.78-7.78 2.81-2.81c.8-.78.8-2.07 0-2.86zM5.41 20L4 18.59l7.72-7.72 1.47 1.35L5.41 20z\"/>\n",
              "  </svg>\n",
              "      </button>\n",
              "      \n",
              "  <style>\n",
              "    .colab-df-container {\n",
              "      display:flex;\n",
              "      flex-wrap:wrap;\n",
              "      gap: 12px;\n",
              "    }\n",
              "\n",
              "    .colab-df-convert {\n",
              "      background-color: #E8F0FE;\n",
              "      border: none;\n",
              "      border-radius: 50%;\n",
              "      cursor: pointer;\n",
              "      display: none;\n",
              "      fill: #1967D2;\n",
              "      height: 32px;\n",
              "      padding: 0 0 0 0;\n",
              "      width: 32px;\n",
              "    }\n",
              "\n",
              "    .colab-df-convert:hover {\n",
              "      background-color: #E2EBFA;\n",
              "      box-shadow: 0px 1px 2px rgba(60, 64, 67, 0.3), 0px 1px 3px 1px rgba(60, 64, 67, 0.15);\n",
              "      fill: #174EA6;\n",
              "    }\n",
              "\n",
              "    [theme=dark] .colab-df-convert {\n",
              "      background-color: #3B4455;\n",
              "      fill: #D2E3FC;\n",
              "    }\n",
              "\n",
              "    [theme=dark] .colab-df-convert:hover {\n",
              "      background-color: #434B5C;\n",
              "      box-shadow: 0px 1px 3px 1px rgba(0, 0, 0, 0.15);\n",
              "      filter: drop-shadow(0px 1px 2px rgba(0, 0, 0, 0.3));\n",
              "      fill: #FFFFFF;\n",
              "    }\n",
              "  </style>\n",
              "\n",
              "      <script>\n",
              "        const buttonEl =\n",
              "          document.querySelector('#df-73baadf3-ead7-4a43-9331-8ef3b99ee221 button.colab-df-convert');\n",
              "        buttonEl.style.display =\n",
              "          google.colab.kernel.accessAllowed ? 'block' : 'none';\n",
              "\n",
              "        async function convertToInteractive(key) {\n",
              "          const element = document.querySelector('#df-73baadf3-ead7-4a43-9331-8ef3b99ee221');\n",
              "          const dataTable =\n",
              "            await google.colab.kernel.invokeFunction('convertToInteractive',\n",
              "                                                     [key], {});\n",
              "          if (!dataTable) return;\n",
              "\n",
              "          const docLinkHtml = 'Like what you see? Visit the ' +\n",
              "            '<a target=\"_blank\" href=https://colab.research.google.com/notebooks/data_table.ipynb>data table notebook</a>'\n",
              "            + ' to learn more about interactive tables.';\n",
              "          element.innerHTML = '';\n",
              "          dataTable['output_type'] = 'display_data';\n",
              "          await google.colab.output.renderOutput(dataTable, element);\n",
              "          const docLink = document.createElement('div');\n",
              "          docLink.innerHTML = docLinkHtml;\n",
              "          element.appendChild(docLink);\n",
              "        }\n",
              "      </script>\n",
              "    </div>\n",
              "  </div>\n",
              "  "
            ]
          },
          "metadata": {},
          "execution_count": 7
        }
      ]
    },
    {
      "cell_type": "markdown",
      "source": [
        "It can be observed from the above output that there exists null values in the value_eur and wage_eur columns. The rows affected are only 74, and some of them overlap on the two affected columns. For this reason, it is safe to drop all affected rows from the data."
      ],
      "metadata": {
        "id": "KOctUnAb8QUs"
      }
    },
    {
      "cell_type": "code",
      "source": [
        "# dropping rows in the columns with missing/null values\n",
        "fifa_cleaned_df = fifa_new_df.dropna(subset=['value_eur', 'wage_eur'])"
      ],
      "metadata": {
        "id": "_A5f8Y12cE9f"
      },
      "execution_count": 8,
      "outputs": []
    },
    {
      "cell_type": "markdown",
      "source": [
        "# Inspecting the cleaned data"
      ],
      "metadata": {
        "id": "I-iQ_QjjN5dY"
      }
    },
    {
      "cell_type": "code",
      "source": [
        "fifa_cleaned_df.info()"
      ],
      "metadata": {
        "colab": {
          "base_uri": "https://localhost:8080/"
        },
        "id": "_-q_XkgKN4at",
        "outputId": "441acd30-76ec-4f1c-dc2c-685bd5628632"
      },
      "execution_count": 9,
      "outputs": [
        {
          "output_type": "stream",
          "name": "stdout",
          "text": [
            "<class 'pandas.core.frame.DataFrame'>\n",
            "Int64Index: 19165 entries, 0 to 19238\n",
            "Data columns (total 6 columns):\n",
            " #   Column          Non-Null Count  Dtype  \n",
            "---  ------          --------------  -----  \n",
            " 0   sofifa_id       19165 non-null  object \n",
            " 1   short_name      19165 non-null  object \n",
            " 2   overall         19165 non-null  int64  \n",
            " 3   value_eur       19165 non-null  float64\n",
            " 4   wage_eur        19165 non-null  float64\n",
            " 5   preferred_foot  19165 non-null  object \n",
            "dtypes: float64(2), int64(1), object(3)\n",
            "memory usage: 1.0+ MB\n"
          ]
        }
      ]
    },
    {
      "cell_type": "code",
      "source": [
        "overall_dist = sns.displot(fifa_cleaned_df.overall, bins=15, kde=True)"
      ],
      "metadata": {
        "colab": {
          "base_uri": "https://localhost:8080/",
          "height": 0
        },
        "id": "aXeDRlaN71kZ",
        "outputId": "e6d899c0-7ce6-4f25-aa57-2430e943f979"
      },
      "execution_count": 10,
      "outputs": [
        {
          "output_type": "display_data",
          "data": {
            "text/plain": [
              "<Figure size 360x360 with 1 Axes>"
            ],
            "image/png": "[encoded data removed]"
          },
          "metadata": {
            "needs_background": "light"
          }
        }
      ]
    },
    {
      "cell_type": "markdown",
      "source": [
        "The above chart shows that the overall attribute variable is normally distributed"
      ],
      "metadata": {
        "id": "vADUUvy1-nE5"
      }
    },
    {
      "cell_type": "code",
      "source": [
        "wage_dist = sns.displot(fifa_cleaned_df.wage_eur, bins=50, kde=True)"
      ],
      "metadata": {
        "colab": {
          "base_uri": "https://localhost:8080/",
          "height": 0
        },
        "id": "3hoVWg0u8KwH",
        "outputId": "f4d8469a-6321-4749-8c56-f1775f8d8b85"
      },
      "execution_count": 11,
      "outputs": [
        {
          "output_type": "display_data",
          "data": {
            "text/plain": [
              "<Figure size 360x360 with 1 Axes>"
            ],
            "image/png": "[encoded data removed]"
          },
          "metadata": {
            "needs_background": "light"
          }
        }
      ]
    },
    {
      "cell_type": "markdown",
      "source": [
        "From the the above chart, it can be observed that the wage_eur distribution is right-skewed, meaning there are more observations/players around the lower wage brackets, while there is more sparse distribution as the wages go higher"
      ],
      "metadata": {
        "id": "zHaxgJgK_bBv"
      }
    },
    {
      "cell_type": "code",
      "source": [
        "value_dist = sns.displot(fifa_cleaned_df.value_eur, bins=50, kde=True)"
      ],
      "metadata": {
        "colab": {
          "base_uri": "https://localhost:8080/",
          "height": 0
        },
        "id": "QeJraJGC9GTh",
        "outputId": "737cab42-6280-4da5-aeb8-208f3c771fda"
      },
      "execution_count": 12,
      "outputs": [
        {
          "output_type": "display_data",
          "data": {
            "text/plain": [
              "<Figure size 360x360 with 1 Axes>"
            ],
            "image/png": "[encoded data removed]"
          },
          "metadata": {
            "needs_background": "light"
          }
        }
      ]
    },
    {
      "cell_type": "markdown",
      "source": [
        "Just like with the wage_eur distribution, the value distribution is right-skewed"
      ],
      "metadata": {
        "id": "uE4EHIVhALFM"
      }
    },
    {
      "cell_type": "markdown",
      "source": [
        "# Analysing the whole Data"
      ],
      "metadata": {
        "id": "KAB6YkSjOEBM"
      }
    },
    {
      "cell_type": "markdown",
      "source": [
        "## Correlation"
      ],
      "metadata": {
        "id": "sililjzpDKYH"
      }
    },
    {
      "cell_type": "code",
      "source": [
        "print(stats.pearsonr(fifa_cleaned_df.overall, fifa_cleaned_df.wage_eur))\n",
        "sns.scatterplot(x='overall', y='wage_eur', data = fifa_cleaned_df)\n",
        "plt.title('Overall attribute versus wages')\n",
        "plt.show()"
      ],
      "metadata": {
        "colab": {
          "base_uri": "https://localhost:8080/",
          "height": 312
        },
        "id": "oBjYD-qybiIi",
        "outputId": "102cf7fc-90aa-4c5d-b2c2-ce655da3f797"
      },
      "execution_count": 13,
      "outputs": [
        {
          "output_type": "stream",
          "name": "stdout",
          "text": [
            "(0.6018855422270709, 0.0)\n"
          ]
        },
        {
          "output_type": "display_data",
          "data": {
            "text/plain": [
              "<Figure size 432x288 with 1 Axes>"
            ],
            "image/png": "[encoded data removed]"
          },
          "metadata": {
            "needs_background": "light"
          }
        }
      ]
    },
    {
      "cell_type": "markdown",
      "source": [
        "The above test and chart show that at the 0.05 significant level, overall attribute and wages are significantly and positvely correlated at 0.602 coeffecient. This result applies to the entire dataset regardless of how high the overall attribute is, or how high the players wages are."
      ],
      "metadata": {
        "id": "nisqaDJxAycR"
      }
    },
    {
      "cell_type": "code",
      "source": [
        "print(stats.pearsonr(fifa_cleaned_df.overall, fifa_cleaned_df.value_eur))\n",
        "sns.scatterplot(x='overall', y='value_eur', data = fifa_cleaned_df)\n",
        "plt.title('Overall attribute versus value')\n",
        "plt.show()"
      ],
      "metadata": {
        "colab": {
          "base_uri": "https://localhost:8080/",
          "height": 312
        },
        "id": "CZGpq3z5BmUl",
        "outputId": "068e8686-4cfa-488d-e216-0af32a3512bd"
      },
      "execution_count": 14,
      "outputs": [
        {
          "output_type": "stream",
          "name": "stdout",
          "text": [
            "(0.5546840457911443, 0.0)\n"
          ]
        },
        {
          "output_type": "display_data",
          "data": {
            "text/plain": [
              "<Figure size 432x288 with 1 Axes>"
            ],
            "image/png": "[encoded data removed]"
          },
          "metadata": {
            "needs_background": "light"
          }
        }
      ]
    },
    {
      "cell_type": "markdown",
      "source": [
        "Similar to the result of the test done on the wage_eur, the value_eur variable also shows that there is significant positive correlation between overall attribute and players' value. Here also, the result applies to the entire dataset of all 19165 players."
      ],
      "metadata": {
        "id": "Xgtk-wGWCF-f"
      }
    },
    {
      "cell_type": "markdown",
      "source": [
        "## Independent-samples t-test"
      ],
      "metadata": {
        "id": "fIaTdtVyDRXw"
      }
    },
    {
      "cell_type": "code",
      "source": [
        "# Dichotomizing the data to have two separate tables containing \n",
        "#Left-foot players in one, and Right-foot players in the other\n",
        "fifa_left = fifa_cleaned_df[fifa_cleaned_df['preferred_foot'] =='Left']\n",
        "fifa_right = fifa_cleaned_df[fifa_cleaned_df['preferred_foot'] =='Right']"
      ],
      "metadata": {
        "id": "Cj-QWQIqb-uI"
      },
      "execution_count": 15,
      "outputs": []
    },
    {
      "cell_type": "code",
      "source": [
        "fifa_pie_data = list(fifa_cleaned_df.preferred_foot.value_counts(ascending=True))\n",
        "print(fifa_pie_data)\n",
        "\n",
        "fifa_pie_label = list(fifa_cleaned_df.preferred_foot.unique())\n",
        "print(fifa_pie_label)\n",
        "\n",
        "plt.pie(fifa_pie_data, labels = fifa_pie_label)\n",
        "\n",
        "plt.show()"
      ],
      "metadata": {
        "colab": {
          "base_uri": "https://localhost:8080/",
          "height": 283
        },
        "id": "4kQcl2gtC9IC",
        "outputId": "0918d49d-0df4-40e4-c2f3-83a52f52b9ec"
      },
      "execution_count": 16,
      "outputs": [
        {
          "output_type": "stream",
          "name": "stdout",
          "text": [
            "[4549, 14616]\n",
            "['Left', 'Right']\n"
          ]
        },
        {
          "output_type": "display_data",
          "data": {
            "text/plain": [
              "<Figure size 432x288 with 1 Axes>"
            ],
            "image/png": "[encoded data removed]"
          },
          "metadata": {}
        }
      ]
    },
    {
      "cell_type": "markdown",
      "source": [
        "The result and chart above shows clearly that the data contains about 3 times as many left footers as there are right footers. This proves that left footers are not as common to come by as right footers."
      ],
      "metadata": {
        "id": "kEkIXKnHENKD"
      }
    },
    {
      "cell_type": "code",
      "source": [
        "print(stats.ttest_ind(fifa_left.overall, fifa_right.overall))\n",
        "print(fifa_left.overall.mean())\n",
        "print(fifa_right.overall.mean())\n",
        "sns.boxplot(y=\"overall\", x=\"preferred_foot\", data=fifa_cleaned_df)\n",
        "plt.title('Preferred foot by Overall attribute')\n",
        "plt.show()"
      ],
      "metadata": {
        "colab": {
          "base_uri": "https://localhost:8080/",
          "height": 348
        },
        "id": "ogjWj4PJlmWG",
        "outputId": "b3fb8cc1-2baf-405d-cf3b-35e96e79fef9"
      },
      "execution_count": 17,
      "outputs": [
        {
          "output_type": "stream",
          "name": "stdout",
          "text": [
            "Ttest_indResult(statistic=6.848119331127106, pvalue=7.709488731690644e-12)\n",
            "66.36975159375687\n",
            "65.57047071702245\n"
          ]
        },
        {
          "output_type": "display_data",
          "data": {
            "text/plain": [
              "<Figure size 432x288 with 1 Axes>"
            ],
            "image/png": "[encoded data removed]"
          },
          "metadata": {
            "needs_background": "light"
          }
        }
      ]
    },
    {
      "cell_type": "markdown",
      "source": [
        "The t-test result shows that at the 0.05 significant level, left footers' average overall attribute is significantly higher than right-footers' average overall attribute"
      ],
      "metadata": {
        "id": "uu-pbFQmE3CR"
      }
    },
    {
      "cell_type": "markdown",
      "source": [
        "The boxplot appears to corroborate the t-test result that left-footers' average attribute is higher than right-footers' average attribute"
      ],
      "metadata": {
        "id": "8Qy8gMlwFvGW"
      }
    },
    {
      "cell_type": "code",
      "source": [
        "print(stats.ttest_ind(fifa_left.wage_eur, fifa_right.wage_eur))\n",
        "print(fifa_left.wage_eur.mean())\n",
        "print(fifa_right.wage_eur.mean())\n",
        "sns.boxplot(y=\"wage_eur\", x=\"preferred_foot\", data=fifa_cleaned_df)\n",
        "plt.title('Preferred foot by wages')\n",
        "plt.show()"
      ],
      "metadata": {
        "colab": {
          "base_uri": "https://localhost:8080/",
          "height": 348
        },
        "id": "W8toRF2w05iV",
        "outputId": "1dee84aa-9b16-41ec-cefc-630561e77f55"
      },
      "execution_count": 18,
      "outputs": [
        {
          "output_type": "stream",
          "name": "stdout",
          "text": [
            "Ttest_indResult(statistic=2.325117983570726, pvalue=0.020076040958633252)\n",
            "9607.990767201583\n",
            "8839.254926108375\n"
          ]
        },
        {
          "output_type": "display_data",
          "data": {
            "text/plain": [
              "<Figure size 432x288 with 1 Axes>"
            ],
            "image/png": "[encoded data removed]"
          },
          "metadata": {
            "needs_background": "light"
          }
        }
      ]
    },
    {
      "cell_type": "code",
      "source": [
        "print(stats.ttest_ind(fifa_left.value_eur, fifa_right.value_eur))\n",
        "print(fifa_left.value_eur.mean())\n",
        "print(fifa_right.value_eur.mean())\n",
        "sns.boxplot(y=\"value_eur\", x=\"preferred_foot\", data=fifa_cleaned_df)\n",
        "plt.title('Preferred foot by Value')\n",
        "plt.show()"
      ],
      "metadata": {
        "id": "TbgO9bYFQNMn",
        "colab": {
          "base_uri": "https://localhost:8080/",
          "height": 348
        },
        "outputId": "0fff6fe0-e3ba-4d9d-a2fb-e5f06b1eca0b"
      },
      "execution_count": 19,
      "outputs": [
        {
          "output_type": "stream",
          "name": "stdout",
          "text": [
            "Ttest_indResult(statistic=2.773236766416532, pvalue=0.005555536667847213)\n",
            "3123795.339635085\n",
            "2765377.94198139\n"
          ]
        },
        {
          "output_type": "display_data",
          "data": {
            "text/plain": [
              "<Figure size 432x288 with 1 Axes>"
            ],
            "image/png": "[encoded data removed]"
          },
          "metadata": {
            "needs_background": "light"
          }
        }
      ]
    },
    {
      "cell_type": "markdown",
      "source": [
        "For both the wage_eur and value_eur variables, the t-test shows that there is significant difference in the respective wages and value between left footers and right footers. \n",
        "\n",
        "However, because of the skewdness of the data that was earlier observed in the distribution histogram, so many outliers can be seen in the boxplot here which makes it a little harder to read, or make any meaningful conclusions on."
      ],
      "metadata": {
        "id": "uNZVwyHkGoFO"
      }
    },
    {
      "cell_type": "markdown",
      "source": [],
      "metadata": {
        "id": "tbycVlTmbWCb"
      }
    },
    {
      "cell_type": "markdown",
      "source": [
        "# **Testing of Hypothesis**: *Analysing the data for the Top 1000 by overall attribute*"
      ],
      "metadata": {
        "id": "Vzov1DKCH3-3"
      }
    },
    {
      "cell_type": "code",
      "source": [
        "# Sort the data by the overall attribute column\n",
        "fifa_1000 = fifa_cleaned_df.sort_values(by=['overall'], ascending=False)\n",
        "\n",
        "# Limit the data to the Top 1000\n",
        "fifa_1000 = fifa_1000[:1000]\n",
        "fifa_1000.head(10)"
      ],
      "metadata": {
        "colab": {
          "base_uri": "https://localhost:8080/",
          "height": 363
        },
        "id": "LImiV5rnH8qf",
        "outputId": "1164c547-9cd2-428c-b230-ddb98fa43d64"
      },
      "execution_count": 20,
      "outputs": [
        {
          "output_type": "execute_result",
          "data": {
            "text/plain": [
              "  sofifa_id         short_name  overall    value_eur  wage_eur preferred_foot\n",
              "0    158023           L. Messi       93   78000000.0  320000.0           Left\n",
              "1    188545     R. Lewandowski       92  119500000.0  270000.0          Right\n",
              "2     20801  Cristiano Ronaldo       91   45000000.0  270000.0          Right\n",
              "3    190871          Neymar Jr       91  129000000.0  270000.0          Right\n",
              "4    192985       K. De Bruyne       91  125500000.0  350000.0          Right\n",
              "5    200389           J. Oblak       91  112000000.0  130000.0          Right\n",
              "6    231747          K. Mbappé       91  194000000.0  230000.0          Right\n",
              "7    167495           M. Neuer       90   13500000.0   86000.0          Right\n",
              "8    192448      M. ter Stegen       90   99000000.0  250000.0          Right\n",
              "9    202126            H. Kane       90  129500000.0  240000.0          Right"
            ],
            "text/html": [
              "\n",
              "  <div id=\"df-01b1d3d0-402f-4d89-985f-3fc3b48523d8\">\n",
              "    <div class=\"colab-df-container\">\n",
              "      <div>\n",
              "<style scoped>\n",
              "    .dataframe tbody tr th:only-of-type {\n",
              "        vertical-align: middle;\n",
              "    }\n",
              "\n",
              "    .dataframe tbody tr th {\n",
              "        vertical-align: top;\n",
              "    }\n",
              "\n",
              "    .dataframe thead th {\n",
              "        text-align: right;\n",
              "    }\n",
              "</style>\n",
              "<table border=\"1\" class=\"dataframe\">\n",
              "  <thead>\n",
              "    <tr style=\"text-align: right;\">\n",
              "      <th></th>\n",
              "      <th>sofifa_id</th>\n",
              "      <th>short_name</th>\n",
              "      <th>overall</th>\n",
              "      <th>value_eur</th>\n",
              "      <th>wage_eur</th>\n",
              "      <th>preferred_foot</th>\n",
              "    </tr>\n",
              "  </thead>\n",
              "  <tbody>\n",
              "    <tr>\n",
              "      <th>0</th>\n",
              "      <td>158023</td>\n",
              "      <td>L. Messi</td>\n",
              "      <td>93</td>\n",
              "      <td>78000000.0</td>\n",
              "      <td>320000.0</td>\n",
              "      <td>Left</td>\n",
              "    </tr>\n",
              "    <tr>\n",
              "      <th>1</th>\n",
              "      <td>188545</td>\n",
              "      <td>R. Lewandowski</td>\n",
              "      <td>92</td>\n",
              "      <td>119500000.0</td>\n",
              "      <td>270000.0</td>\n",
              "      <td>Right</td>\n",
              "    </tr>\n",
              "    <tr>\n",
              "      <th>2</th>\n",
              "      <td>20801</td>\n",
              "      <td>Cristiano Ronaldo</td>\n",
              "      <td>91</td>\n",
              "      <td>45000000.0</td>\n",
              "      <td>270000.0</td>\n",
              "      <td>Right</td>\n",
              "    </tr>\n",
              "    <tr>\n",
              "      <th>3</th>\n",
              "      <td>190871</td>\n",
              "      <td>Neymar Jr</td>\n",
              "      <td>91</td>\n",
              "      <td>129000000.0</td>\n",
              "      <td>270000.0</td>\n",
              "      <td>Right</td>\n",
              "    </tr>\n",
              "    <tr>\n",
              "      <th>4</th>\n",
              "      <td>192985</td>\n",
              "      <td>K. De Bruyne</td>\n",
              "      <td>91</td>\n",
              "      <td>125500000.0</td>\n",
              "      <td>350000.0</td>\n",
              "      <td>Right</td>\n",
              "    </tr>\n",
              "    <tr>\n",
              "      <th>5</th>\n",
              "      <td>200389</td>\n",
              "      <td>J. Oblak</td>\n",
              "      <td>91</td>\n",
              "      <td>112000000.0</td>\n",
              "      <td>130000.0</td>\n",
              "      <td>Right</td>\n",
              "    </tr>\n",
              "    <tr>\n",
              "      <th>6</th>\n",
              "      <td>231747</td>\n",
              "      <td>K. Mbappé</td>\n",
              "      <td>91</td>\n",
              "      <td>194000000.0</td>\n",
              "      <td>230000.0</td>\n",
              "      <td>Right</td>\n",
              "    </tr>\n",
              "    <tr>\n",
              "      <th>7</th>\n",
              "      <td>167495</td>\n",
              "      <td>M. Neuer</td>\n",
              "      <td>90</td>\n",
              "      <td>13500000.0</td>\n",
              "      <td>86000.0</td>\n",
              "      <td>Right</td>\n",
              "    </tr>\n",
              "    <tr>\n",
              "      <th>8</th>\n",
              "      <td>192448</td>\n",
              "      <td>M. ter Stegen</td>\n",
              "      <td>90</td>\n",
              "      <td>99000000.0</td>\n",
              "      <td>250000.0</td>\n",
              "      <td>Right</td>\n",
              "    </tr>\n",
              "    <tr>\n",
              "      <th>9</th>\n",
              "      <td>202126</td>\n",
              "      <td>H. Kane</td>\n",
              "      <td>90</td>\n",
              "      <td>129500000.0</td>\n",
              "      <td>240000.0</td>\n",
              "      <td>Right</td>\n",
              "    </tr>\n",
              "  </tbody>\n",
              "</table>\n",
              "</div>\n",
              "      <button class=\"colab-df-convert\" onclick=\"convertToInteractive('df-01b1d3d0-402f-4d89-985f-3fc3b48523d8')\"\n",
              "              title=\"Convert this dataframe to an interactive table.\"\n",
              "              style=\"display:none;\">\n",
              "        \n",
              "  <svg xmlns=\"http://www.w3.org/2000/svg\" height=\"24px\"viewBox=\"0 0 24 24\"\n",
              "       width=\"24px\">\n",
              "    <path d=\"M0 0h24v24H0V0z\" fill=\"none\"/>\n",
              "    <path d=\"M18.56 5.44l.94 2.06.94-2.06 2.06-.94-2.06-.94-.94-2.06-.94 2.06-2.06.94zm-11 1L8.5 8.5l.94-2.06 2.06-.94-2.06-.94L8.5 2.5l-.94 2.06-2.06.94zm10 10l.94 2.06.94-2.06 2.06-.94-2.06-.94-.94-2.06-.94 2.06-2.06.94z\"/><path d=\"M17.41 7.96l-1.37-1.37c-.4-.4-.92-.59-1.43-.59-.52 0-1.04.2-1.43.59L10.3 9.45l-7.72 7.72c-.78.78-.78 2.05 0 2.83L4 21.41c.39.39.9.59 1.41.59.51 0 1.02-.2 1.41-.59l7.78-7.78 2.81-2.81c.8-.78.8-2.07 0-2.86zM5.41 20L4 18.59l7.72-7.72 1.47 1.35L5.41 20z\"/>\n",
              "  </svg>\n",
              "      </button>\n",
              "      \n",
              "  <style>\n",
              "    .colab-df-container {\n",
              "      display:flex;\n",
              "      flex-wrap:wrap;\n",
              "      gap: 12px;\n",
              "    }\n",
              "\n",
              "    .colab-df-convert {\n",
              "      background-color: #E8F0FE;\n",
              "      border: none;\n",
              "      border-radius: 50%;\n",
              "      cursor: pointer;\n",
              "      display: none;\n",
              "      fill: #1967D2;\n",
              "      height: 32px;\n",
              "      padding: 0 0 0 0;\n",
              "      width: 32px;\n",
              "    }\n",
              "\n",
              "    .colab-df-convert:hover {\n",
              "      background-color: #E2EBFA;\n",
              "      box-shadow: 0px 1px 2px rgba(60, 64, 67, 0.3), 0px 1px 3px 1px rgba(60, 64, 67, 0.15);\n",
              "      fill: #174EA6;\n",
              "    }\n",
              "\n",
              "    [theme=dark] .colab-df-convert {\n",
              "      background-color: #3B4455;\n",
              "      fill: #D2E3FC;\n",
              "    }\n",
              "\n",
              "    [theme=dark] .colab-df-convert:hover {\n",
              "      background-color: #434B5C;\n",
              "      box-shadow: 0px 1px 3px 1px rgba(0, 0, 0, 0.15);\n",
              "      filter: drop-shadow(0px 1px 2px rgba(0, 0, 0, 0.3));\n",
              "      fill: #FFFFFF;\n",
              "    }\n",
              "  </style>\n",
              "\n",
              "      <script>\n",
              "        const buttonEl =\n",
              "          document.querySelector('#df-01b1d3d0-402f-4d89-985f-3fc3b48523d8 button.colab-df-convert');\n",
              "        buttonEl.style.display =\n",
              "          google.colab.kernel.accessAllowed ? 'block' : 'none';\n",
              "\n",
              "        async function convertToInteractive(key) {\n",
              "          const element = document.querySelector('#df-01b1d3d0-402f-4d89-985f-3fc3b48523d8');\n",
              "          const dataTable =\n",
              "            await google.colab.kernel.invokeFunction('convertToInteractive',\n",
              "                                                     [key], {});\n",
              "          if (!dataTable) return;\n",
              "\n",
              "          const docLinkHtml = 'Like what you see? Visit the ' +\n",
              "            '<a target=\"_blank\" href=https://colab.research.google.com/notebooks/data_table.ipynb>data table notebook</a>'\n",
              "            + ' to learn more about interactive tables.';\n",
              "          element.innerHTML = '';\n",
              "          dataTable['output_type'] = 'display_data';\n",
              "          await google.colab.output.renderOutput(dataTable, element);\n",
              "          const docLink = document.createElement('div');\n",
              "          docLink.innerHTML = docLinkHtml;\n",
              "          element.appendChild(docLink);\n",
              "        }\n",
              "      </script>\n",
              "    </div>\n",
              "  </div>\n",
              "  "
            ]
          },
          "metadata": {},
          "execution_count": 20
        }
      ]
    },
    {
      "cell_type": "markdown",
      "source": [
        "## Inspecting the fifa_1000 data"
      ],
      "metadata": {
        "id": "5sJgQtovKUle"
      }
    },
    {
      "cell_type": "code",
      "source": [
        "print(fifa_1000.info())"
      ],
      "metadata": {
        "colab": {
          "base_uri": "https://localhost:8080/"
        },
        "id": "soQhZ7SuKaLb",
        "outputId": "91e5238e-b030-49d0-d2bf-5c5fc017bd04"
      },
      "execution_count": 21,
      "outputs": [
        {
          "output_type": "stream",
          "name": "stdout",
          "text": [
            "<class 'pandas.core.frame.DataFrame'>\n",
            "Int64Index: 1000 entries, 0 to 910\n",
            "Data columns (total 6 columns):\n",
            " #   Column          Non-Null Count  Dtype  \n",
            "---  ------          --------------  -----  \n",
            " 0   sofifa_id       1000 non-null   object \n",
            " 1   short_name      1000 non-null   object \n",
            " 2   overall         1000 non-null   int64  \n",
            " 3   value_eur       1000 non-null   float64\n",
            " 4   wage_eur        1000 non-null   float64\n",
            " 5   preferred_foot  1000 non-null   object \n",
            "dtypes: float64(2), int64(1), object(3)\n",
            "memory usage: 54.7+ KB\n",
            "None\n"
          ]
        }
      ]
    },
    {
      "cell_type": "code",
      "source": [
        "overall_1000_dist = sns.displot(fifa_1000.overall, bins=15, kde=True)"
      ],
      "metadata": {
        "colab": {
          "base_uri": "https://localhost:8080/",
          "height": 0
        },
        "id": "Wz594ocjKgOK",
        "outputId": "cacbdc21-9640-4362-fae0-6a2cb9c40f16"
      },
      "execution_count": 22,
      "outputs": [
        {
          "output_type": "display_data",
          "data": {
            "text/plain": [
              "<Figure size 360x360 with 1 Axes>"
            ],
            "image/png": "[encoded data removed]"
          },
          "metadata": {
            "needs_background": "light"
          }
        }
      ]
    },
    {
      "cell_type": "markdown",
      "source": [
        "The chart above appears to be skewed to the right. This is in contrast to the normal distribution that the actual fifa_cleaned_df showed. Even though it is hard to conclude whether this is a normal distribution or not, we can still run analysis on it because we have well over 100 observations to run our tests on, based on the assumptions of Central Limit Theorem"
      ],
      "metadata": {
        "id": "VaCOApfELcQA"
      }
    },
    {
      "cell_type": "code",
      "source": [
        "wage_1000_dist = sns.displot(fifa_1000.wage_eur, kde=True)"
      ],
      "metadata": {
        "colab": {
          "base_uri": "https://localhost:8080/",
          "height": 0
        },
        "id": "pAAc0gg1K2UO",
        "outputId": "412f399f-2a93-43d8-a3b2-bf00ccd2dbf3"
      },
      "execution_count": 23,
      "outputs": [
        {
          "output_type": "display_data",
          "data": {
            "text/plain": [
              "<Figure size 360x360 with 1 Axes>"
            ],
            "image/png": "[encoded data removed]"
          },
          "metadata": {
            "needs_background": "light"
          }
        }
      ]
    },
    {
      "cell_type": "code",
      "source": [
        "value_1000_dist = sns.displot(fifa_1000.value_eur, bins=50, kde=True)"
      ],
      "metadata": {
        "colab": {
          "base_uri": "https://localhost:8080/",
          "height": 0
        },
        "id": "e7Wlrkm0LQWq",
        "outputId": "a6d9c460-9bf0-49c6-d922-c8b039e52a04"
      },
      "execution_count": 24,
      "outputs": [
        {
          "output_type": "display_data",
          "data": {
            "text/plain": [
              "<Figure size 360x360 with 1 Axes>"
            ],
            "image/png": "[encoded data removed]"
          },
          "metadata": {
            "needs_background": "light"
          }
        }
      ]
    },
    {
      "cell_type": "markdown",
      "source": [
        "For the wage and value variables, the distributions have a normal distribution as seen in the above charts, even though they are still right skewed, a bell shaped curve can be observed. The data/variables are good enough to run our analysis on."
      ],
      "metadata": {
        "id": "XT2c6dTOMSTN"
      }
    },
    {
      "cell_type": "markdown",
      "source": [
        "## Hypothesis 1:\n",
        "There is no Correlation between overall attribute and players wages"
      ],
      "metadata": {
        "id": "M9XUj5IDJ_Nq"
      }
    },
    {
      "cell_type": "code",
      "source": [
        "print(stats.pearsonr(fifa_1000.overall, fifa_1000.wage_eur))\n",
        "sns.scatterplot(x='overall', y='wage_eur', data = fifa_1000)\n",
        "plt.title('Overall attribute versus wages - Top 1000')\n",
        "plt.show()\n"
      ],
      "metadata": {
        "colab": {
          "base_uri": "https://localhost:8080/",
          "height": 312
        },
        "id": "VigWjuLmI7cC",
        "outputId": "ed685f2f-548f-433b-f079-35607dabe136"
      },
      "execution_count": 25,
      "outputs": [
        {
          "output_type": "stream",
          "name": "stdout",
          "text": [
            "(0.7428170216908134, 4.231995646528006e-176)\n"
          ]
        },
        {
          "output_type": "display_data",
          "data": {
            "text/plain": [
              "<Figure size 432x288 with 1 Axes>"
            ],
            "image/png": "[encoded data removed]"
          },
          "metadata": {
            "needs_background": "light"
          }
        }
      ]
    },
    {
      "cell_type": "code",
      "source": [
        "print(stats.pearsonr(fifa_1000.overall, fifa_1000.value_eur))\n",
        "sns.scatterplot(x='overall', y='value_eur', data = fifa_1000)\n",
        "plt.title('Overall attribute versus value - Top 1000')\n",
        "plt.show()\n"
      ],
      "metadata": {
        "colab": {
          "base_uri": "https://localhost:8080/",
          "height": 312
        },
        "id": "_GQit0mJM6sA",
        "outputId": "19844246-ba49-40f6-aaf2-fd0b002b7366"
      },
      "execution_count": 26,
      "outputs": [
        {
          "output_type": "stream",
          "name": "stdout",
          "text": [
            "(0.7767249022842275, 1.3915279635238708e-202)\n"
          ]
        },
        {
          "output_type": "display_data",
          "data": {
            "text/plain": [
              "<Figure size 432x288 with 1 Axes>"
            ],
            "image/png": "[encoded data removed]"
          },
          "metadata": {
            "needs_background": "light"
          }
        }
      ]
    },
    {
      "cell_type": "markdown",
      "source": [
        "## Result of Hypothesis 1:\n",
        "The correlation coeffecient of overall attribute and value(0.78), just like that of overall attribute and wages(0.74) shows that among the Top 1000 players, there is positive correlation in the two relationships respectively. The p-value at less than 0.05 significant level also shows that the correlation is significant. \n",
        "\n",
        "This means that as the overall attribute of a player goes up, the more likely it is that the value and wages will go up."
      ],
      "metadata": {
        "id": "qg0Ej7nqNuQ5"
      }
    },
    {
      "cell_type": "markdown",
      "source": [
        "## Hypothesis 2:\n",
        "Left-footers average overall attribute are not significantly different from that of right footers"
      ],
      "metadata": {
        "id": "VEAQLe22PmVJ"
      }
    },
    {
      "cell_type": "code",
      "source": [
        "# Create two tables for left footers and right-footers respectively\n",
        "fifa_1000_left = fifa_1000[fifa_1000['preferred_foot'] =='Left']\n",
        "fifa_1000_right = fifa_1000[fifa_1000['preferred_foot'] =='Right']"
      ],
      "metadata": {
        "id": "lqx8mNbkNnkb"
      },
      "execution_count": 27,
      "outputs": []
    },
    {
      "cell_type": "code",
      "source": [
        "fifa_1000_data = list(fifa_1000.preferred_foot.value_counts(ascending=True))\n",
        "print(fifa_1000_data)\n",
        "\n",
        "fifa_1000_label = list(fifa_1000.preferred_foot.unique())\n",
        "print(fifa_1000_label)\n",
        "\n",
        "plt.pie(fifa_1000_data, labels = fifa_1000_label)\n",
        "\n",
        "plt.show()"
      ],
      "metadata": {
        "colab": {
          "base_uri": "https://localhost:8080/",
          "height": 283
        },
        "id": "EA7KIE6HQQBc",
        "outputId": "6585958f-caf6-4f5b-a29d-f22b7845ce52"
      },
      "execution_count": 28,
      "outputs": [
        {
          "output_type": "stream",
          "name": "stdout",
          "text": [
            "[259, 741]\n",
            "['Left', 'Right']\n"
          ]
        },
        {
          "output_type": "display_data",
          "data": {
            "text/plain": [
              "<Figure size 432x288 with 1 Axes>"
            ],
            "image/png": "[encoded data removed]"
          },
          "metadata": {}
        }
      ]
    },
    {
      "cell_type": "markdown",
      "source": [
        "Similar to the full dataset, left-footers are fewer than right footers in an almost 1:3 ratio"
      ],
      "metadata": {
        "id": "c9ybAyySQzH1"
      }
    },
    {
      "cell_type": "code",
      "source": [
        "print(stats.ttest_ind(fifa_1000_left.overall, fifa_1000_right.overall))\n",
        "print(fifa_1000_left.overall.mean())\n",
        "print(fifa_1000_right.overall.mean())\n",
        "sns.boxplot(y=\"overall\", x=\"preferred_foot\", data=fifa_1000)\n",
        "plt.title('Preferred foot by Overall attribute - Top 1000')\n",
        "plt.show()"
      ],
      "metadata": {
        "colab": {
          "base_uri": "https://localhost:8080/",
          "height": 348
        },
        "id": "VRaMKtqQRKHa",
        "outputId": "24747b61-07e3-4666-c0a0-1574bbffa12e"
      },
      "execution_count": 29,
      "outputs": [
        {
          "output_type": "stream",
          "name": "stdout",
          "text": [
            "Ttest_indResult(statistic=-0.47142700608059845, pvalue=0.6374388720778827)\n",
            "80.24710424710425\n",
            "80.34817813765183\n"
          ]
        },
        {
          "output_type": "display_data",
          "data": {
            "text/plain": [
              "<Figure size 432x288 with 1 Axes>"
            ],
            "image/png": "[encoded data removed]"
          },
          "metadata": {
            "needs_background": "light"
          }
        }
      ]
    },
    {
      "cell_type": "markdown",
      "source": [
        "## Result of Hypothesis 2:\n",
        "The p-value returned at 0.64 is higher than 0.05 significance level. This shows that there is no significant difference in the average overall attribute between left footers and right footers among the top 1000 players."
      ],
      "metadata": {
        "id": "qkebGBaGSDu-"
      }
    },
    {
      "cell_type": "markdown",
      "source": [
        "## Hypothesis 3:\n",
        "There is no significant difference between left-footers' and right-footers' average wages and values among the Top 1000 players"
      ],
      "metadata": {
        "id": "j6fDrxf7SrYL"
      }
    },
    {
      "cell_type": "code",
      "source": [
        "print(stats.ttest_ind(fifa_1000_left.wage_eur, fifa_1000_right.wage_eur))\n",
        "print(fifa_1000_left.wage_eur.mean())\n",
        "print(fifa_1000_right.wage_eur.mean())\n",
        "sns.boxplot(y=\"wage_eur\", x=\"preferred_foot\", data=fifa_1000)\n",
        "plt.title('Preferred foot by wages - Top 1000')\n",
        "plt.show()"
      ],
      "metadata": {
        "colab": {
          "base_uri": "https://localhost:8080/",
          "height": 348
        },
        "id": "Ho1fyxMyRioz",
        "outputId": "7499579e-90d3-49c9-a331-19b8c80604b4"
      },
      "execution_count": 30,
      "outputs": [
        {
          "output_type": "stream",
          "name": "stdout",
          "text": [
            "Ttest_indResult(statistic=-0.524074916528265, pvalue=0.6003428000787006)\n",
            "61015.444015444016\n",
            "62994.4669365722\n"
          ]
        },
        {
          "output_type": "display_data",
          "data": {
            "text/plain": [
              "<Figure size 432x288 with 1 Axes>"
            ],
            "image/png": "[encoded data removed]"
          },
          "metadata": {
            "needs_background": "light"
          }
        }
      ]
    },
    {
      "cell_type": "code",
      "source": [
        "print(stats.ttest_ind(fifa_1000_left.value_eur, fifa_1000_right.value_eur))\n",
        "print(fifa_1000_left.value_eur.mean())\n",
        "print(fifa_1000_right.value_eur.mean())\n",
        "sns.boxplot(y=\"value_eur\", x=\"preferred_foot\", data=fifa_1000)\n",
        "plt.title('Preferred foot by Value - Top 1000')\n",
        "plt.show()"
      ],
      "metadata": {
        "colab": {
          "base_uri": "https://localhost:8080/",
          "height": 348
        },
        "id": "I83_QaZ7R1Nl",
        "outputId": "ecaf0437-521c-47db-881f-4e67f76eac91"
      },
      "execution_count": 31,
      "outputs": [
        {
          "output_type": "stream",
          "name": "stdout",
          "text": [
            "Ttest_indResult(statistic=0.6035436897017147, pvalue=0.5462842062423419)\n",
            "27303474.903474905\n",
            "26382456.14035088\n"
          ]
        },
        {
          "output_type": "display_data",
          "data": {
            "text/plain": [
              "<Figure size 432x288 with 1 Axes>"
            ],
            "image/png": "[encoded data removed]"
          },
          "metadata": {
            "needs_background": "light"
          }
        }
      ]
    },
    {
      "cell_type": "markdown",
      "source": [
        "## Result of Hypothesis 3:\n",
        "At 0.05 significance level, the p-values for preferred foot to wages(0.6) and value(0.55) are higher, therefore there is no significant difference in the observed averages between left-footers wages/values and right-footers' wages/values."
      ],
      "metadata": {
        "id": "aKQnJ70KTGd0"
      }
    },
    {
      "cell_type": "markdown",
      "source": [
        "# In summary, the analysis noted the following observations:\n",
        "The initial analysis of all players inclusive showed \n",
        "1. Positive significant correlation between wages and players overall attribute\n",
        "2. Significant difference between left-footers and right-footers as regards overall attribute\n",
        "3. Significant difference between left-footers and right-footers as regards wages and value\n",
        "\n",
        "The analysis on the Top 1000 showed\n",
        "1. Positive correlation between wages/value and players overall attribute, similar to the initial analysis of all players inclusive\n",
        "2. No significant difference between left-footers' and right-footers' overall attribute\n",
        "3. No significant difference between left-footers and right-footers as regards wages and value\n",
        "\n"
      ],
      "metadata": {
        "id": "qAWCnEglUkgl"
      }
    },
    {
      "cell_type": "markdown",
      "source": [
        "# CONCLUSION\n",
        "It can be said that left footers generally have an edge/advantage over right-footers at the initial or beginning stages of the players' career based on their wages and overall attribute. Left-footers are rare compared to right-footers, and this may be a reason for their wages being higher at the initial stages.\n",
        "\n",
        "However, as the players rise in their career, that advantage disappears and the difference in attribute and wages can no longer be linked to their preferred foot. The observed differences in wages, value, and overall attribute among the Top 1000 may be due to other confounding factors that can be investigated in further analysis. "
      ],
      "metadata": {
        "id": "biw61R3qWoOc"
      }
    },
    {
      "cell_type": "markdown",
      "source": [
        "# RECOMMENDATION\n",
        "Coaches may be inclined to looking out for left footers to add to their soccer team, this will be helpful only if the player is fresh, young and teachable. All things being equal, a left-footer will be slightly more talented or more at an advantage over right footers which may reduce the cost of time, energy and resources on the team. Subject to further analysis.\n",
        "\n",
        "However, if a coach wants to buy a Top rated player to join their team, it is recommended not to base their decision on the player's preferred foot because at that top stage, players wages, attribute, form, and what they can offer are not affected by this factor of preferred-foot anymore.\n",
        "\n",
        "Further analysis can be done to look for other confounding factors that can make a players' wages go higher or lower. Some of these factors may include the league in which they play, the club they play for, the player's age or how long their career has been, their state of physical form, or even the position they play in the team. "
      ],
      "metadata": {
        "id": "F_LFA5TAgH8J"
      }
    },
    {
      "cell_type": "markdown",
      "source": [
        "# THANK YOU FOR READING"
      ],
      "metadata": {
        "id": "0IHsjKtzjXMh"
      }
    }
  ]
}